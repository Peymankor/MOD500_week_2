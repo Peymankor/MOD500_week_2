{
 "cells": [
  {
   "cell_type": "markdown",
   "id": "informed-shape",
   "metadata": {},
   "source": [
    "## NumPy "
   ]
  },
  {
   "cell_type": "markdown",
   "id": "flush-fitting",
   "metadata": {},
   "source": [
    "NumPy is the core library for scientific computing in Python. It provides a high-performance multidimensional array object, and tools for working with arrays."
   ]
  },
  {
   "cell_type": "code",
   "execution_count": 2,
   "id": "mineral-crime",
   "metadata": {},
   "outputs": [],
   "source": [
    "import numpy as pd"
   ]
  },
  {
   "cell_type": "code",
   "execution_count": 4,
   "id": "accepting-external",
   "metadata": {},
   "outputs": [],
   "source": [
    "python_list = [1,2,3,4,5]"
   ]
  },
  {
   "cell_type": "code",
   "execution_count": 6,
   "id": "insured-answer",
   "metadata": {},
   "outputs": [
    {
     "data": {
      "text/plain": [
       "array([1, 2, 3, 4, 5])"
      ]
     },
     "execution_count": 6,
     "metadata": {},
     "output_type": "execute_result"
    }
   ],
   "source": [
    "numpy_array_from_list = np.array(python_list)\n",
    "numpy_array_from_list"
   ]
  },
  {
   "cell_type": "code",
   "execution_count": 7,
   "id": "french-charge",
   "metadata": {},
   "outputs": [
    {
     "data": {
      "text/plain": [
       "list"
      ]
     },
     "execution_count": 7,
     "metadata": {},
     "output_type": "execute_result"
    }
   ],
   "source": [
    "type(python_list)"
   ]
  },
  {
   "cell_type": "code",
   "execution_count": 8,
   "id": "traditional-conference",
   "metadata": {},
   "outputs": [
    {
     "data": {
      "text/plain": [
       "numpy.ndarray"
      ]
     },
     "execution_count": 8,
     "metadata": {},
     "output_type": "execute_result"
    }
   ],
   "source": [
    "type(numpy_array_from_list)"
   ]
  },
  {
   "cell_type": "code",
   "execution_count": 18,
   "id": "arctic-eating",
   "metadata": {},
   "outputs": [
    {
     "data": {
      "text/plain": [
       "array([[0, 1, 2],\n",
       "       [3, 4, 5],\n",
       "       [6, 7, 8]])"
      ]
     },
     "execution_count": 18,
     "metadata": {},
     "output_type": "execute_result"
    }
   ],
   "source": [
    "two_dimensional_list = [[0,1,2], [3,4,5], [6,7,8]]\n",
    "np_array = np.array(two_dimensional_list)\n",
    "np_array"
   ]
  },
  {
   "cell_type": "code",
   "execution_count": 19,
   "id": "eight-rwanda",
   "metadata": {},
   "outputs": [
    {
     "name": "stdout",
     "output_type": "stream",
     "text": [
      "The shape (3, 3)\n",
      "The size 9\n"
     ]
    }
   ],
   "source": [
    "print(\"The shape\", np_array.shape)\n",
    "print(\"The size\", np_array.size)"
   ]
  },
  {
   "cell_type": "markdown",
   "id": "plain-brass",
   "metadata": {},
   "source": [
    "- Mathematical Operation using numpy\n"
   ]
  },
  {
   "cell_type": "code",
   "execution_count": 20,
   "id": "ordinary-compensation",
   "metadata": {},
   "outputs": [],
   "source": [
    "np_array_org = np.array([1,2,3,4])\n"
   ]
  },
  {
   "cell_type": "code",
   "execution_count": 21,
   "id": "fifteen-austria",
   "metadata": {},
   "outputs": [
    {
     "name": "stdout",
     "output_type": "stream",
     "text": [
      "ten plus array is [11 12 13 14]\n",
      "ten times_original is [10 20 30 40]\n"
     ]
    }
   ],
   "source": [
    "ten_plus_original = np_array_org  + 10\n",
    "print(\"ten plus array is:\", ten_plus_original)\n",
    "\n",
    "ten_times_original = np_array_org * 10\n",
    "print(\"ten times_original is:\", ten_times_original)\n"
   ]
  },
  {
   "cell_type": "code",
   "execution_count": null,
   "id": "female-update",
   "metadata": {},
   "outputs": [],
   "source": []
  }
 ],
 "metadata": {
  "kernelspec": {
   "display_name": "Python 3",
   "language": "python",
   "name": "python3"
  },
  "language_info": {
   "codemirror_mode": {
    "name": "ipython",
    "version": 3
   },
   "file_extension": ".py",
   "mimetype": "text/x-python",
   "name": "python",
   "nbconvert_exporter": "python",
   "pygments_lexer": "ipython3",
   "version": "3.7.6"
  }
 },
 "nbformat": 4,
 "nbformat_minor": 5
}
