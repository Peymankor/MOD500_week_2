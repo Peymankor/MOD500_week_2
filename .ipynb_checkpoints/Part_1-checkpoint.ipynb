{
 "cells": [
  {
   "cell_type": "markdown",
   "id": "registered-memory",
   "metadata": {},
   "source": [
    "# Basics:"
   ]
  },
  {
   "cell_type": "markdown",
   "id": "cross-guinea",
   "metadata": {},
   "source": [
    "## Working with Shell Inside the Jupyter "
   ]
  },
  {
   "cell_type": "markdown",
   "id": "composed-composite",
   "metadata": {},
   "source": [
    "Anything appearing after `!` on a line will be executed not by the Python kernel, but by the system command-line."
   ]
  },
  {
   "cell_type": "markdown",
   "id": "japanese-raising",
   "metadata": {},
   "source": [
    "### Examples"
   ]
  },
  {
   "cell_type": "markdown",
   "id": "suspected-scratch",
   "metadata": {},
   "source": [
    "+ List of files at current working directories:"
   ]
  },
  {
   "cell_type": "code",
   "execution_count": 1,
   "id": "interested-syracuse",
   "metadata": {},
   "outputs": [
    {
     "name": "stdout",
     "output_type": "stream",
     "text": [
      "img  Part_1.ipynb\n"
     ]
    }
   ],
   "source": [
    "!ls"
   ]
  },
  {
   "cell_type": "markdown",
   "id": "processed-slovakia",
   "metadata": {},
   "source": [
    "- Check your python version "
   ]
  },
  {
   "cell_type": "code",
   "execution_count": 2,
   "id": "advance-reproduction",
   "metadata": {},
   "outputs": [
    {
     "name": "stdout",
     "output_type": "stream",
     "text": [
      "Python 3.7.6\n"
     ]
    }
   ],
   "source": [
    "!python --version"
   ]
  },
  {
   "cell_type": "markdown",
   "id": "ordered-prime",
   "metadata": {},
   "source": [
    "- print working directory:"
   ]
  },
  {
   "cell_type": "code",
   "execution_count": 3,
   "id": "sonic-satisfaction",
   "metadata": {},
   "outputs": [
    {
     "name": "stdout",
     "output_type": "stream",
     "text": [
      "/home/peyman/Documents/PhD_UiS/MOD500_2021/Week_2_vc\n"
     ]
    }
   ],
   "source": [
    "!pwd"
   ]
  },
  {
   "cell_type": "code",
   "execution_count": 4,
   "id": "joined-soundtrack",
   "metadata": {},
   "outputs": [],
   "source": [
    "!cd .."
   ]
  },
  {
   "cell_type": "code",
   "execution_count": 5,
   "id": "instructional-hamilton",
   "metadata": {},
   "outputs": [
    {
     "name": "stdout",
     "output_type": "stream",
     "text": [
      "/home/peyman/Documents/PhD_UiS/MOD500_2021/Week_2_vc\n"
     ]
    }
   ],
   "source": [
    "!pwd"
   ]
  },
  {
   "cell_type": "markdown",
   "id": "macro-craft",
   "metadata": {},
   "source": [
    "## Jupyter Notebook Magic Commands"
   ]
  },
  {
   "cell_type": "markdown",
   "id": "important-reach",
   "metadata": {},
   "source": [
    "Magic commands are enhancements added over the normal python code and these commands are provided by the IPython kernel.\n",
    "\n",
    "*These magic commands are usually prefixed by a “%” character*\n",
    "\n",
    "These commands are basically added to solve common problems we face and also provide few shortcuts to your code."
   ]
  },
  {
   "cell_type": "code",
   "execution_count": 14,
   "id": "equipped-mississippi",
   "metadata": {},
   "outputs": [
    {
     "name": "stdout",
     "output_type": "stream",
     "text": [
      "/home/peyman/Documents/PhD_UiS/MOD500_2021/Week_2\n"
     ]
    }
   ],
   "source": [
    "!pwd"
   ]
  },
  {
   "cell_type": "code",
   "execution_count": 15,
   "id": "alternate-courtesy",
   "metadata": {},
   "outputs": [
    {
     "name": "stdout",
     "output_type": "stream",
     "text": [
      "/home/peyman/Documents/PhD_UiS/MOD500_2021\n"
     ]
    }
   ],
   "source": [
    "%cd .."
   ]
  },
  {
   "cell_type": "code",
   "execution_count": 16,
   "id": "satisfactory-firmware",
   "metadata": {},
   "outputs": [
    {
     "name": "stdout",
     "output_type": "stream",
     "text": [
      "/home/peyman/Documents/PhD_UiS/MOD500_2021\n"
     ]
    }
   ],
   "source": [
    "!pwd"
   ]
  },
  {
   "cell_type": "code",
   "execution_count": 20,
   "id": "crazy-romantic",
   "metadata": {},
   "outputs": [
    {
     "name": "stdout",
     "output_type": "stream",
     "text": [
      "/home/peyman/Documents/PhD_UiS/MOD500_2021/Week_2\n"
     ]
    }
   ],
   "source": [
    "%cd Week_2"
   ]
  },
  {
   "cell_type": "markdown",
   "id": "municipal-midnight",
   "metadata": {},
   "source": [
    "- `%who`, `%time`"
   ]
  },
  {
   "cell_type": "code",
   "execution_count": 6,
   "id": "above-primary",
   "metadata": {},
   "outputs": [],
   "source": [
    "x=1\n",
    "y=\"MOD500\""
   ]
  },
  {
   "cell_type": "code",
   "execution_count": 7,
   "id": "daily-reminder",
   "metadata": {},
   "outputs": [
    {
     "name": "stdout",
     "output_type": "stream",
     "text": [
      "x\t y\t \n"
     ]
    }
   ],
   "source": [
    "%who "
   ]
  },
  {
   "cell_type": "code",
   "execution_count": 8,
   "id": "affecting-grounds",
   "metadata": {},
   "outputs": [
    {
     "name": "stdout",
     "output_type": "stream",
     "text": [
      "CPU times: user 4 µs, sys: 0 ns, total: 4 µs\n",
      "Wall time: 8.11 µs\n"
     ]
    }
   ],
   "source": [
    "%time \n"
   ]
  },
  {
   "cell_type": "markdown",
   "id": "ready-nothing",
   "metadata": {},
   "source": [
    "- List of all jupyter notebook magic commands \\\n",
    "https://ipython.readthedocs.io/en/stable/interactive/magics.html"
   ]
  },
  {
   "cell_type": "markdown",
   "id": "outside-peace",
   "metadata": {},
   "source": [
    "## Data Types in Python"
   ]
  },
  {
   "cell_type": "markdown",
   "id": "rapid-liberty",
   "metadata": {},
   "source": [
    "### 1. Number"
   ]
  },
  {
   "cell_type": "markdown",
   "id": "union-filling",
   "metadata": {},
   "source": [
    "- Integer: Integer(negative, zero and positive) numbers Example: ... -3, -2, -1, 0, 1, 2, 3 ...\n",
    "- Float: Decimal number Example ... -3.5, -2.25, -1.0, 0.0, 1.1, 2.2, 3.5 ...\n",
    "- Complex Example 1 + j, 2 + 4j"
   ]
  },
  {
   "cell_type": "code",
   "execution_count": 9,
   "id": "legitimate-extent",
   "metadata": {},
   "outputs": [],
   "source": [
    "x=-1\n",
    "y=3.5\n",
    "z= 1j"
   ]
  },
  {
   "cell_type": "code",
   "execution_count": 10,
   "id": "bridal-rating",
   "metadata": {},
   "outputs": [
    {
     "data": {
      "text/plain": [
       "1j"
      ]
     },
     "execution_count": 10,
     "metadata": {},
     "output_type": "execute_result"
    }
   ],
   "source": [
    "z"
   ]
  },
  {
   "cell_type": "markdown",
   "id": "proof-delicious",
   "metadata": {},
   "source": [
    "### 2. String"
   ]
  },
  {
   "cell_type": "markdown",
   "id": "continued-favor",
   "metadata": {},
   "source": [
    "- A collection of one or more characters under a single or double quote. **If a string is more than one sentence then we use a triple quote**."
   ]
  },
  {
   "cell_type": "code",
   "execution_count": 11,
   "id": "collect-jewel",
   "metadata": {},
   "outputs": [],
   "source": [
    "x_str = 'hi, Welcome to MOD500'\n",
    "x_str_two_sent = \"\"\" Hi, welcome,\n",
    "You in MOD 500\"\"\" "
   ]
  },
  {
   "cell_type": "code",
   "execution_count": 12,
   "id": "signed-porcelain",
   "metadata": {},
   "outputs": [
    {
     "data": {
      "text/plain": [
       "' Hi, welcome,\\nYou in MOD 500'"
      ]
     },
     "execution_count": 12,
     "metadata": {},
     "output_type": "execute_result"
    }
   ],
   "source": [
    "x_str_two_sent"
   ]
  },
  {
   "cell_type": "markdown",
   "id": "sunset-hamburg",
   "metadata": {},
   "source": [
    "### 3. Booleans"
   ]
  },
  {
   "cell_type": "markdown",
   "id": "accurate-selection",
   "metadata": {},
   "source": [
    "A boolean data type is either a True or False value. T and F should be always uppercase."
   ]
  },
  {
   "cell_type": "code",
   "execution_count": 13,
   "id": "attended-argentina",
   "metadata": {},
   "outputs": [
    {
     "data": {
      "text/plain": [
       "True"
      ]
     },
     "execution_count": 13,
     "metadata": {},
     "output_type": "execute_result"
    }
   ],
   "source": [
    "True"
   ]
  },
  {
   "cell_type": "code",
   "execution_count": 14,
   "id": "consolidated-surrey",
   "metadata": {},
   "outputs": [
    {
     "data": {
      "text/plain": [
       "False"
      ]
     },
     "execution_count": 14,
     "metadata": {},
     "output_type": "execute_result"
    }
   ],
   "source": [
    "False"
   ]
  },
  {
   "cell_type": "markdown",
   "id": "accredited-threat",
   "metadata": {},
   "source": [
    "- Python list is an ordered collection which allows to store different data type items. A list is similar to an array in JavaScript.\n",
    "\n"
   ]
  },
  {
   "cell_type": "code",
   "execution_count": 15,
   "id": "processed-arbor",
   "metadata": {},
   "outputs": [],
   "source": [
    "x = [1,2,3]\n",
    "y = [\"Banana\", \"Orange\", \" Mango\"]\n",
    "z = [1.1,2.2,3.3]"
   ]
  },
  {
   "cell_type": "markdown",
   "id": "soviet-screen",
   "metadata": {},
   "source": [
    "**Important** : List can contain different data types in the list - string, integer, boolean and float"
   ]
  },
  {
   "cell_type": "code",
   "execution_count": 16,
   "id": "placed-duncan",
   "metadata": {},
   "outputs": [],
   "source": [
    "x_y_z = [\"Banana\",True, 1.1, 1j,2 ]"
   ]
  },
  {
   "cell_type": "markdown",
   "id": "offensive-boutique",
   "metadata": {},
   "source": [
    "## 4. Dictionary"
   ]
  },
  {
   "cell_type": "markdown",
   "id": "offshore-pearl",
   "metadata": {},
   "source": [
    "- A Python dictionary object is an unordered collection of data in a key value pair format."
   ]
  },
  {
   "cell_type": "code",
   "execution_count": 17,
   "id": "white-statement",
   "metadata": {},
   "outputs": [],
   "source": [
    "dic_x = { \"first_name\": \"Aojie\",\n",
    "         \"last_name\": \"Hong\",\n",
    "         \"is_married\": True\n",
    "}"
   ]
  },
  {
   "cell_type": "code",
   "execution_count": 18,
   "id": "stuck-freight",
   "metadata": {},
   "outputs": [
    {
     "data": {
      "text/plain": [
       "{'first_name': 'Aojie', 'last_name': 'Hong', 'is_married': True}"
      ]
     },
     "execution_count": 18,
     "metadata": {},
     "output_type": "execute_result"
    }
   ],
   "source": [
    "dic_x"
   ]
  },
  {
   "cell_type": "markdown",
   "id": "settled-polyester",
   "metadata": {},
   "source": [
    "## 5. Tuple"
   ]
  },
  {
   "cell_type": "markdown",
   "id": "canadian-modern",
   "metadata": {},
   "source": [
    "- A tuple is an ordered collection of different data types like list **but tuples can not be modified once they are created. They are immutable** "
   ]
  },
  {
   "cell_type": "code",
   "execution_count": 19,
   "id": "according-chapel",
   "metadata": {},
   "outputs": [
    {
     "data": {
      "text/plain": [
       "'book'"
      ]
     },
     "execution_count": 19,
     "metadata": {},
     "output_type": "execute_result"
    }
   ],
   "source": [
    "x_tuple = (\"Pen\", \"book\", \"paper\")\n",
    "x_tuple[1]"
   ]
  },
  {
   "cell_type": "code",
   "execution_count": 20,
   "id": "unusual-sharing",
   "metadata": {},
   "outputs": [
    {
     "data": {
      "text/plain": [
       "[1, 4, 3]"
      ]
     },
     "execution_count": 20,
     "metadata": {},
     "output_type": "execute_result"
    }
   ],
   "source": [
    "x[1] =4\n",
    "x"
   ]
  },
  {
   "cell_type": "markdown",
   "id": "complicated-romantic",
   "metadata": {},
   "source": [
    "## 6. Set"
   ]
  },
  {
   "cell_type": "markdown",
   "id": "photographic-tuesday",
   "metadata": {},
   "source": [
    "- A set is a collection of data types similar to list and tuple. **Unlike list and tuple, set is not an ordered collection of items**. **Like in Mathematics, set in Python stores only unique items.**"
   ]
  },
  {
   "cell_type": "code",
   "execution_count": 21,
   "id": "human-regression",
   "metadata": {},
   "outputs": [
    {
     "name": "stdout",
     "output_type": "stream",
     "text": [
      "2\n",
      "4\n",
      "5\n",
      "6\n"
     ]
    }
   ],
   "source": [
    "x_set = {2,4,5,6,6}\n",
    "x_set\n",
    "for x in x_set:\n",
    "    print(x)"
   ]
  },
  {
   "cell_type": "markdown",
   "id": "instrumental-cinema",
   "metadata": {},
   "source": [
    "Check your data type:"
   ]
  },
  {
   "cell_type": "code",
   "execution_count": 22,
   "id": "disabled-ticket",
   "metadata": {},
   "outputs": [
    {
     "data": {
      "text/plain": [
       "dict"
      ]
     },
     "execution_count": 22,
     "metadata": {},
     "output_type": "execute_result"
    }
   ],
   "source": [
    "type({\"name\":\"Aojoie\"})"
   ]
  },
  {
   "cell_type": "markdown",
   "id": "precious-matrix",
   "metadata": {},
   "source": [
    "## Built in functions"
   ]
  },
  {
   "cell_type": "markdown",
   "id": "incorporate-mainstream",
   "metadata": {},
   "source": [
    "In Python we have lots of built-in functions. Built-in functions are globally available for your use that mean you can make use of the built-in functions without importing or configuring"
   ]
  },
  {
   "cell_type": "markdown",
   "id": "helpful-basketball",
   "metadata": {},
   "source": [
    "**Important ones**"
   ]
  },
  {
   "cell_type": "markdown",
   "id": "horizontal-jersey",
   "metadata": {},
   "source": [
    "`print(), len(), type(), int(), float(), str(), input(), list(), dict(), min(), max(), sum(), sorted(), open(), file(), help(), and dir().`"
   ]
  },
  {
   "cell_type": "code",
   "execution_count": 40,
   "id": "incoming-speaking",
   "metadata": {},
   "outputs": [
    {
     "data": {
      "text/html": [
       "<img src=\"https://raw.githubusercontent.com/Peymankor/MOD500_week_2/master/img/builtin-functions.png\" width=\"500\" height=\"500\"/>"
      ],
      "text/plain": [
       "<IPython.core.display.Image object>"
      ]
     },
     "execution_count": 40,
     "metadata": {},
     "output_type": "execute_result"
    }
   ],
   "source": [
    "from IPython.display import Image\n",
    "from IPython.core.display import HTML \n",
    "\n",
    "#\n",
    "Image(url= \"https://raw.githubusercontent.com/Peymankor/MOD500_week_2/master/img/builtin-functions.png\",\n",
    "     width=500, height=500) "
   ]
  },
  {
   "cell_type": "code",
   "execution_count": 89,
   "id": "joint-sequence",
   "metadata": {},
   "outputs": [
    {
     "name": "stdout",
     "output_type": "stream",
     "text": [
      "Help on built-in function min in module builtins:\n",
      "\n",
      "min(...)\n",
      "    min(iterable, *[, default=obj, key=func]) -> value\n",
      "    min(arg1, arg2, *args, *[, key=func]) -> value\n",
      "    \n",
      "    With a single iterable argument, return its smallest item. The\n",
      "    default keyword-only argument specifies an object to return if\n",
      "    the provided iterable is empty.\n",
      "    With two or more arguments, return the smallest argument.\n",
      "\n"
     ]
    }
   ],
   "source": [
    "help(min)"
   ]
  },
  {
   "cell_type": "code",
   "execution_count": 99,
   "id": "interested-summer",
   "metadata": {},
   "outputs": [
    {
     "name": "stdout",
     "output_type": "stream",
     "text": [
      "1 is minimum value of x vector, then 6 is the maximum\n",
      "value of x. Further, we computed sumation of x is equal to 21\n"
     ]
    }
   ],
   "source": [
    "\n",
    "x = [2,3,1,4,5,6]\n",
    "\n",
    "#####\n",
    "\n",
    "min_x=min(x)\n",
    "max_x=max(x)\n",
    "sum_x = sum(x)\n",
    "\n",
    "\n",
    "####\n",
    "\n",
    "template = \"\"\"%d is minimum value of x vector, then %d is the maximum\n",
    "value of x. Further, we computed sumation of x is equal to %d\"\"\"\n",
    "\n",
    "formatted = template % (min_x, max_x, sum_x)\n",
    "print(formatted)"
   ]
  },
  {
   "cell_type": "markdown",
   "id": "charged-version",
   "metadata": {},
   "source": [
    "## Operator"
   ]
  },
  {
   "cell_type": "markdown",
   "id": "mexican-bruce",
   "metadata": {},
   "source": [
    "- Arithmetic Operators:"
   ]
  },
  {
   "cell_type": "code",
   "execution_count": 41,
   "id": "green-connecticut",
   "metadata": {},
   "outputs": [
    {
     "data": {
      "text/html": [
       "<img src=\"https://raw.githubusercontent.com/Peymankor/MOD500_week_2/master/img/arithmetic_operators.png\" width=\"500\" height=\"500\"/>"
      ],
      "text/plain": [
       "<IPython.core.display.Image object>"
      ]
     },
     "execution_count": 41,
     "metadata": {},
     "output_type": "execute_result"
    }
   ],
   "source": [
    "Image(url= \"https://raw.githubusercontent.com/Peymankor/MOD500_week_2/master/img/arithmetic_operators.png\",\n",
    "     width=500, height=500) \n"
   ]
  },
  {
   "cell_type": "code",
   "execution_count": 107,
   "id": "worst-natural",
   "metadata": {},
   "outputs": [
    {
     "name": "stdout",
     "output_type": "stream",
     "text": [
      "1.6666666666666667\n",
      "4\n",
      "1\n"
     ]
    }
   ],
   "source": [
    "num_one = 10\n",
    "num_two = 6\n",
    "\n",
    "div = num_one/num_two\n",
    "mod = num_one % num_two\n",
    "floor_div = num_one // num_two\n",
    "print(div)\n",
    "print(mod)\n",
    "print(floor_div)"
   ]
  },
  {
   "cell_type": "markdown",
   "id": "whole-alarm",
   "metadata": {},
   "source": [
    "- Comparison Operators\n"
   ]
  },
  {
   "cell_type": "code",
   "execution_count": 48,
   "id": "downtown-spray",
   "metadata": {},
   "outputs": [
    {
     "data": {
      "text/html": [
       "<img src=\"https://raw.githubusercontent.com/Peymankor/MOD500_week_2/master/img/comparison_operators.png\" width=\"500\" height=\"500\"/>"
      ],
      "text/plain": [
       "<IPython.core.display.Image object>"
      ]
     },
     "execution_count": 48,
     "metadata": {},
     "output_type": "execute_result"
    }
   ],
   "source": [
    "Image(url=\"https://raw.githubusercontent.com/Peymankor/MOD500_week_2/master/img/comparison_operators.png\",\n",
    "     width=500, height=500)"
   ]
  },
  {
   "cell_type": "markdown",
   "id": "broke-poison",
   "metadata": {},
   "source": []
  },
  {
   "cell_type": "markdown",
   "id": "greenhouse-exemption",
   "metadata": {},
   "source": [
    "## Loops"
   ]
  },
  {
   "cell_type": "markdown",
   "id": "prescription-assignment",
   "metadata": {},
   "source": [
    "In programming we do lots of repetitive tasks. In order to handle repetitive task programming languages use loops. Python programming language also provides the following types of two loops:"
   ]
  },
  {
   "cell_type": "markdown",
   "id": "pharmaceutical-citizen",
   "metadata": {},
   "source": [
    "- while lopp\n",
    "- for loop"
   ]
  },
  {
   "cell_type": "markdown",
   "id": "incorporated-mason",
   "metadata": {},
   "source": [
    "- ### While loop"
   ]
  },
  {
   "cell_type": "code",
   "execution_count": 110,
   "id": "ambient-throat",
   "metadata": {},
   "outputs": [],
   "source": [
    "  # syntax\n",
    "# while condition:\n",
    "#     code goes here"
   ]
  },
  {
   "cell_type": "markdown",
   "id": "associate-medicaid",
   "metadata": {},
   "source": [
    "Example:"
   ]
  },
  {
   "cell_type": "code",
   "execution_count": 109,
   "id": "thrown-ecuador",
   "metadata": {},
   "outputs": [
    {
     "name": "stdout",
     "output_type": "stream",
     "text": [
      "0\n",
      "1\n",
      "2\n",
      "3\n",
      "4\n"
     ]
    }
   ],
   "source": [
    "count = 0\n",
    "while count < 5:\n",
    "    print(count)\n",
    "    count = count + 1"
   ]
  },
  {
   "cell_type": "markdown",
   "id": "regular-individual",
   "metadata": {},
   "source": [
    "- Break and Continue:"
   ]
  },
  {
   "cell_type": "code",
   "execution_count": 111,
   "id": "heated-nurse",
   "metadata": {},
   "outputs": [],
   "source": [
    "# syntax\n",
    "#while condition:\n",
    "#    code goes here\n",
    "#    if another_condition:\n",
    "#        break"
   ]
  },
  {
   "cell_type": "code",
   "execution_count": 119,
   "id": "durable-response",
   "metadata": {},
   "outputs": [
    {
     "name": "stdout",
     "output_type": "stream",
     "text": [
      "0\n",
      "1\n",
      "2\n"
     ]
    }
   ],
   "source": [
    "count = 0\n",
    "while count < 5:\n",
    "    print(count)\n",
    "    count = count + 1\n",
    "    if count == 3:\n",
    "        break"
   ]
  },
  {
   "cell_type": "code",
   "execution_count": 139,
   "id": "covered-newark",
   "metadata": {},
   "outputs": [
    {
     "name": "stdout",
     "output_type": "stream",
     "text": [
      "who are you?\n"
     ]
    },
    {
     "name": "stdin",
     "output_type": "stream",
     "text": [
      " Aojie\n"
     ]
    },
    {
     "name": "stdout",
     "output_type": "stream",
     "text": [
      "Hello, Aojie. What is the password? (it is fish)\n"
     ]
    },
    {
     "name": "stdin",
     "output_type": "stream",
     "text": [
      " swordfish\n"
     ]
    },
    {
     "name": "stdout",
     "output_type": "stream",
     "text": [
      "Access granted.\n"
     ]
    }
   ],
   "source": [
    "while True:\n",
    "    \n",
    "    print(\"who are you?\")\n",
    "    name = input()\n",
    "    \n",
    "    if name != \"Aojie\":\n",
    "        continue\n",
    "    \n",
    "    print(\"Hello, Aojie. What is the password? (it is fish)\")\n",
    "    password = input()\n",
    "    \n",
    "    if password == \"swordfish\":\n",
    "        break\n",
    "\n",
    "print(\"Access granted.\")        "
   ]
  },
  {
   "cell_type": "code",
   "execution_count": 55,
   "id": "complicated-saying",
   "metadata": {},
   "outputs": [
    {
     "data": {
      "text/html": [
       "<img src=\"https://raw.githubusercontent.com/Peymankor/MOD500_week_2/master/img/break_continue_while.png\" width=\"500\" height=\"400\"/>"
      ],
      "text/plain": [
       "<IPython.core.display.Image object>"
      ]
     },
     "execution_count": 55,
     "metadata": {},
     "output_type": "execute_result"
    }
   ],
   "source": [
    "Image(url='https://raw.githubusercontent.com/Peymankor/MOD500_week_2/master/img/break_continue_while.png',\n",
    "     width=500, height=400)"
   ]
  },
  {
   "cell_type": "markdown",
   "id": "pacific-bumper",
   "metadata": {},
   "source": [
    "## For Loop "
   ]
  },
  {
   "cell_type": "code",
   "execution_count": 140,
   "id": "earlier-kelly",
   "metadata": {},
   "outputs": [],
   "source": [
    "# syntax\n",
    "#for iterator in lst:\n",
    "#    code goes here"
   ]
  },
  {
   "cell_type": "code",
   "execution_count": 142,
   "id": "diagnostic-brass",
   "metadata": {},
   "outputs": [
    {
     "name": "stdout",
     "output_type": "stream",
     "text": [
      "0\n",
      "1\n",
      "2\n",
      "3\n",
      "4\n",
      "5\n"
     ]
    }
   ],
   "source": [
    "numbers = [0, 1, 2, 3, 4, 5]\n",
    "for number in numbers: \n",
    "    print(number)  "
   ]
  },
  {
   "cell_type": "markdown",
   "id": "threaded-grain",
   "metadata": {},
   "source": [
    "Note: number is temporary name to refer to the list's item, valid only inside this loop"
   ]
  },
  {
   "cell_type": "markdown",
   "id": "noted-islam",
   "metadata": {},
   "source": [
    "**Important**: \n",
    "    For loop with dictionary Looping through a dictionary gives you the key of the dictionary."
   ]
  },
  {
   "cell_type": "code",
   "execution_count": 143,
   "id": "amateur-consciousness",
   "metadata": {},
   "outputs": [],
   "source": [
    "person = {\"first_name\": \"Aojie\",\n",
    "          \"Last_name\": \"Hong\",\n",
    "          \"Country\": \"Norway\",\n",
    "          \"Skills\": [\"Python\", \"MATLAB\", \"HTML\"]\n",
    "    \n",
    "}"
   ]
  },
  {
   "cell_type": "code",
   "execution_count": 144,
   "id": "frank-london",
   "metadata": {},
   "outputs": [
    {
     "name": "stdout",
     "output_type": "stream",
     "text": [
      "first_name\n",
      "Last_name\n",
      "Country\n",
      "Skills\n"
     ]
    }
   ],
   "source": [
    "for key in person:\n",
    "    print(key)"
   ]
  },
  {
   "cell_type": "code",
   "execution_count": 147,
   "id": "hundred-substitute",
   "metadata": {},
   "outputs": [
    {
     "name": "stdout",
     "output_type": "stream",
     "text": [
      "first_name Aojie\n",
      "Last_name Hong\n",
      "Country Norway\n",
      "Skills ['Python', 'MATLAB', 'HTML']\n"
     ]
    }
   ],
   "source": [
    "for key, value in person.items():\n",
    "    print(key, value)"
   ]
  },
  {
   "cell_type": "markdown",
   "id": "functional-warrior",
   "metadata": {},
   "source": [
    "- The Range Function"
   ]
  },
  {
   "cell_type": "markdown",
   "id": "instrumental-telescope",
   "metadata": {},
   "source": [
    "The `range()` function is used list of numbers. The range(start, end, step) takes three parameters: starting, ending and increment. By default it starts from 0 and the increment is 1"
   ]
  },
  {
   "cell_type": "code",
   "execution_count": 149,
   "id": "secondary-notebook",
   "metadata": {},
   "outputs": [
    {
     "name": "stdout",
     "output_type": "stream",
     "text": [
      "[0, 1, 2, 3, 4, 5, 6, 7, 8, 9, 10]\n",
      "{1, 2, 3, 4, 5, 6, 7, 8, 9, 10}\n",
      "[0, 2, 4, 6, 8, 10]\n",
      "{0, 2, 4, 6, 8, 10}\n"
     ]
    }
   ],
   "source": [
    "lst = list(range(11)) \n",
    "print(lst) # [0, 1, 2, 3, 4, 5, 6, 7, 8, 9, 10]\n",
    "st = set(range(1, 11))    # 2 arguments indicate start and end of the sequence, step set to default 1\n",
    "print(st) # {1, 2, 3, 4, 5, 6, 7, 8, 9, 10}\n",
    "\n",
    "lst = list(range(0,11,2))\n",
    "print(lst) # [0, 2, 4, 6, 8, 10]\n",
    "st = set(range(0,11,2))\n",
    "print(st) #  {0, 2, 4, 6, 8, 10"
   ]
  }
 ],
 "metadata": {
  "kernelspec": {
   "display_name": "Python 3",
   "language": "python",
   "name": "python3"
  },
  "language_info": {
   "codemirror_mode": {
    "name": "ipython",
    "version": 3
   },
   "file_extension": ".py",
   "mimetype": "text/x-python",
   "name": "python",
   "nbconvert_exporter": "python",
   "pygments_lexer": "ipython3",
   "version": "3.7.6"
  }
 },
 "nbformat": 4,
 "nbformat_minor": 5
}
