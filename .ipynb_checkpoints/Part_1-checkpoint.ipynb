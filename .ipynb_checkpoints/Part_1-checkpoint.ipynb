{
 "cells": [
  {
   "cell_type": "markdown",
   "id": "absent-midnight",
   "metadata": {},
   "source": [
    "# Modeling for Decision Insight - MOD500\n",
    "## Week 2 - Introduction to Python"
   ]
  },
  {
   "cell_type": "markdown",
   "id": "desirable-sheriff",
   "metadata": {},
   "source": [
    "### Content, Part I:"
   ]
  },
  {
   "cell_type": "markdown",
   "id": "coordinate-cargo",
   "metadata": {},
   "source": [
    "- [Topic 1: Working with Shell inside the Jupyter](#1-Working-with-Shell-inside-the-Jupyter)\n",
    "- [Topic 2: Jupyter Notebook Magic Commands](#2-Jupyter-Notebook-Magic-Commands)\n",
    "- [Topic 3: Data Types in Python](#3-Data-Types-in-Python)\n",
    "- [Topic 4: Built-in function in Python](#4-Built-in-functions-in-Python)\n",
    "- [Topic 5: Loops](#5-Loops)\n",
    "- [Topic 6: Functions](#6-Functions)"
   ]
  },
  {
   "cell_type": "markdown",
   "id": "super-investor",
   "metadata": {},
   "source": [
    "## 1-Working with Shell inside the Jupyter"
   ]
  },
  {
   "cell_type": "markdown",
   "id": "cultural-crown",
   "metadata": {},
   "source": [
    "Anything appearing after `!` on a line will be executed not by the Python kernel, but by the system command-line."
   ]
  },
  {
   "cell_type": "markdown",
   "id": "taken-photography",
   "metadata": {},
   "source": [
    "### Examples"
   ]
  },
  {
   "cell_type": "markdown",
   "id": "committed-prayer",
   "metadata": {},
   "source": [
    "+ List of files at current working directories:"
   ]
  },
  {
   "cell_type": "code",
   "execution_count": 1,
   "id": "loaded-terminology",
   "metadata": {},
   "outputs": [
    {
     "name": "stdout",
     "output_type": "stream",
     "text": [
      "img  Part_1.ipynb\n"
     ]
    }
   ],
   "source": [
    "!ls"
   ]
  },
  {
   "cell_type": "markdown",
   "id": "downtown-terrain",
   "metadata": {},
   "source": [
    "- Check your python version "
   ]
  },
  {
   "cell_type": "code",
   "execution_count": 2,
   "id": "bigger-athens",
   "metadata": {},
   "outputs": [
    {
     "name": "stdout",
     "output_type": "stream",
     "text": [
      "Python 3.7.6\n"
     ]
    }
   ],
   "source": [
    "!python --version"
   ]
  },
  {
   "cell_type": "markdown",
   "id": "passing-screen",
   "metadata": {},
   "source": [
    "- print working directory:"
   ]
  },
  {
   "cell_type": "code",
   "execution_count": 3,
   "id": "conscious-oxide",
   "metadata": {},
   "outputs": [
    {
     "name": "stdout",
     "output_type": "stream",
     "text": [
      "/home/peyman/Documents/PhD_UiS/MOD500_2021/Week_2_vc\n"
     ]
    }
   ],
   "source": [
    "!pwd"
   ]
  },
  {
   "cell_type": "code",
   "execution_count": 4,
   "id": "ancient-timing",
   "metadata": {},
   "outputs": [],
   "source": [
    "!cd .."
   ]
  },
  {
   "cell_type": "code",
   "execution_count": 5,
   "id": "aggressive-edgar",
   "metadata": {},
   "outputs": [
    {
     "name": "stdout",
     "output_type": "stream",
     "text": [
      "/home/peyman/Documents/PhD_UiS/MOD500_2021/Week_2_vc\n"
     ]
    }
   ],
   "source": [
    "!pwd"
   ]
  },
  {
   "cell_type": "markdown",
   "id": "excess-charleston",
   "metadata": {},
   "source": [
    "## 2-Jupyter Notebook Magic Commands"
   ]
  },
  {
   "cell_type": "markdown",
   "id": "thrown-state",
   "metadata": {},
   "source": [
    "Magic commands are enhancements added over the normal python code and these commands are provided by the IPython kernel.\n",
    "\n",
    "*These magic commands are usually prefixed by a “%” character*\n",
    "\n",
    "These commands are basically added to solve common problems we face and also provide few shortcuts to your code."
   ]
  },
  {
   "cell_type": "code",
   "execution_count": 14,
   "id": "purple-birmingham",
   "metadata": {},
   "outputs": [
    {
     "name": "stdout",
     "output_type": "stream",
     "text": [
      "/home/peyman/Documents/PhD_UiS/MOD500_2021/Week_2\n"
     ]
    }
   ],
   "source": [
    "!pwd"
   ]
  },
  {
   "cell_type": "code",
   "execution_count": 15,
   "id": "standing-immunology",
   "metadata": {},
   "outputs": [
    {
     "name": "stdout",
     "output_type": "stream",
     "text": [
      "/home/peyman/Documents/PhD_UiS/MOD500_2021\n"
     ]
    }
   ],
   "source": [
    "%cd .."
   ]
  },
  {
   "cell_type": "code",
   "execution_count": 16,
   "id": "floating-prayer",
   "metadata": {},
   "outputs": [
    {
     "name": "stdout",
     "output_type": "stream",
     "text": [
      "/home/peyman/Documents/PhD_UiS/MOD500_2021\n"
     ]
    }
   ],
   "source": [
    "!pwd"
   ]
  },
  {
   "cell_type": "code",
   "execution_count": 20,
   "id": "exceptional-collector",
   "metadata": {},
   "outputs": [
    {
     "name": "stdout",
     "output_type": "stream",
     "text": [
      "/home/peyman/Documents/PhD_UiS/MOD500_2021/Week_2\n"
     ]
    }
   ],
   "source": [
    "%cd Week_2"
   ]
  },
  {
   "cell_type": "markdown",
   "id": "public-plane",
   "metadata": {},
   "source": [
    "- `%who`, `%time`"
   ]
  },
  {
   "cell_type": "code",
   "execution_count": 6,
   "id": "golden-closer",
   "metadata": {},
   "outputs": [],
   "source": [
    "x=1\n",
    "y=\"MOD500\""
   ]
  },
  {
   "cell_type": "code",
   "execution_count": 7,
   "id": "beginning-newcastle",
   "metadata": {},
   "outputs": [
    {
     "name": "stdout",
     "output_type": "stream",
     "text": [
      "x\t y\t \n"
     ]
    }
   ],
   "source": [
    "%who "
   ]
  },
  {
   "cell_type": "code",
   "execution_count": 8,
   "id": "laden-telescope",
   "metadata": {},
   "outputs": [
    {
     "name": "stdout",
     "output_type": "stream",
     "text": [
      "CPU times: user 4 µs, sys: 0 ns, total: 4 µs\n",
      "Wall time: 8.11 µs\n"
     ]
    }
   ],
   "source": [
    "%time \n"
   ]
  },
  {
   "cell_type": "markdown",
   "id": "monetary-somalia",
   "metadata": {},
   "source": [
    "- List of all jupyter notebook magic commands \\\n",
    "https://ipython.readthedocs.io/en/stable/interactive/magics.html"
   ]
  },
  {
   "cell_type": "markdown",
   "id": "acting-sitting",
   "metadata": {},
   "source": [
    "## 3-Data Types in Python"
   ]
  },
  {
   "cell_type": "markdown",
   "id": "after-prefix",
   "metadata": {},
   "source": [
    "### 1. Number"
   ]
  },
  {
   "cell_type": "markdown",
   "id": "incident-chosen",
   "metadata": {},
   "source": [
    "- Integer: Integer(negative, zero and positive) numbers Example: ... -3, -2, -1, 0, 1, 2, 3 ...\n",
    "- Float: Decimal number Example ... -3.5, -2.25, -1.0, 0.0, 1.1, 2.2, 3.5 ...\n",
    "- Complex Example 1 + j, 2 + 4j"
   ]
  },
  {
   "cell_type": "code",
   "execution_count": 9,
   "id": "incorrect-reach",
   "metadata": {},
   "outputs": [],
   "source": [
    "x=-1\n",
    "y=3.5\n",
    "z= 1j"
   ]
  },
  {
   "cell_type": "code",
   "execution_count": 10,
   "id": "pointed-extension",
   "metadata": {},
   "outputs": [
    {
     "data": {
      "text/plain": [
       "1j"
      ]
     },
     "execution_count": 10,
     "metadata": {},
     "output_type": "execute_result"
    }
   ],
   "source": [
    "z"
   ]
  },
  {
   "cell_type": "markdown",
   "id": "angry-traveler",
   "metadata": {},
   "source": [
    "### 2. String"
   ]
  },
  {
   "cell_type": "markdown",
   "id": "minus-pointer",
   "metadata": {},
   "source": [
    "- A collection of one or more characters under a single or double quote. **If a string is more than one sentence then we use a triple quote**."
   ]
  },
  {
   "cell_type": "code",
   "execution_count": 11,
   "id": "chubby-funeral",
   "metadata": {},
   "outputs": [],
   "source": [
    "x_str = 'hi, Welcome to MOD500'\n",
    "x_str_two_sent = \"\"\" Hi, welcome,\n",
    "You in MOD 500\"\"\" "
   ]
  },
  {
   "cell_type": "code",
   "execution_count": 12,
   "id": "widespread-going",
   "metadata": {},
   "outputs": [
    {
     "data": {
      "text/plain": [
       "' Hi, welcome,\\nYou in MOD 500'"
      ]
     },
     "execution_count": 12,
     "metadata": {},
     "output_type": "execute_result"
    }
   ],
   "source": [
    "x_str_two_sent"
   ]
  },
  {
   "cell_type": "markdown",
   "id": "harmful-refrigerator",
   "metadata": {},
   "source": [
    "### 3. Booleans"
   ]
  },
  {
   "cell_type": "markdown",
   "id": "educational-pasta",
   "metadata": {},
   "source": [
    "A boolean data type is either a True or False value. T and F should be always uppercase."
   ]
  },
  {
   "cell_type": "code",
   "execution_count": 13,
   "id": "ignored-weekend",
   "metadata": {},
   "outputs": [
    {
     "data": {
      "text/plain": [
       "True"
      ]
     },
     "execution_count": 13,
     "metadata": {},
     "output_type": "execute_result"
    }
   ],
   "source": [
    "True"
   ]
  },
  {
   "cell_type": "code",
   "execution_count": 14,
   "id": "furnished-asset",
   "metadata": {},
   "outputs": [
    {
     "data": {
      "text/plain": [
       "False"
      ]
     },
     "execution_count": 14,
     "metadata": {},
     "output_type": "execute_result"
    }
   ],
   "source": [
    "False"
   ]
  },
  {
   "cell_type": "markdown",
   "id": "objective-pattern",
   "metadata": {},
   "source": [
    "- Python list is an ordered collection which allows to store different data type items. A list is similar to an array in JavaScript.\n",
    "\n"
   ]
  },
  {
   "cell_type": "code",
   "execution_count": 15,
   "id": "corrected-joint",
   "metadata": {},
   "outputs": [],
   "source": [
    "x = [1,2,3]\n",
    "y = [\"Banana\", \"Orange\", \" Mango\"]\n",
    "z = [1.1,2.2,3.3]"
   ]
  },
  {
   "cell_type": "markdown",
   "id": "meaningful-account",
   "metadata": {},
   "source": [
    "**Important** : List can contain different data types in the list - string, integer, boolean and float"
   ]
  },
  {
   "cell_type": "code",
   "execution_count": 16,
   "id": "dangerous-pharmaceutical",
   "metadata": {},
   "outputs": [],
   "source": [
    "x_y_z = [\"Banana\",True, 1.1, 1j,2 ]"
   ]
  },
  {
   "cell_type": "markdown",
   "id": "geographic-adoption",
   "metadata": {},
   "source": [
    "## 4. Dictionary"
   ]
  },
  {
   "cell_type": "markdown",
   "id": "bound-seven",
   "metadata": {},
   "source": [
    "- A Python dictionary object is an unordered collection of data in a key value pair format."
   ]
  },
  {
   "cell_type": "code",
   "execution_count": 17,
   "id": "remarkable-expansion",
   "metadata": {},
   "outputs": [],
   "source": [
    "dic_x = { \"first_name\": \"Aojie\",\n",
    "         \"last_name\": \"Hong\",\n",
    "         \"is_married\": True\n",
    "}"
   ]
  },
  {
   "cell_type": "code",
   "execution_count": 18,
   "id": "centered-awareness",
   "metadata": {},
   "outputs": [
    {
     "data": {
      "text/plain": [
       "{'first_name': 'Aojie', 'last_name': 'Hong', 'is_married': True}"
      ]
     },
     "execution_count": 18,
     "metadata": {},
     "output_type": "execute_result"
    }
   ],
   "source": [
    "dic_x"
   ]
  },
  {
   "cell_type": "markdown",
   "id": "arctic-presence",
   "metadata": {},
   "source": [
    "## 5. Tuple"
   ]
  },
  {
   "cell_type": "markdown",
   "id": "according-simple",
   "metadata": {},
   "source": [
    "- A tuple is an ordered collection of different data types like list **but tuples can not be modified once they are created. They are immutable** "
   ]
  },
  {
   "cell_type": "code",
   "execution_count": 19,
   "id": "terminal-billy",
   "metadata": {},
   "outputs": [
    {
     "data": {
      "text/plain": [
       "'book'"
      ]
     },
     "execution_count": 19,
     "metadata": {},
     "output_type": "execute_result"
    }
   ],
   "source": [
    "x_tuple = (\"Pen\", \"book\", \"paper\")\n",
    "x_tuple[1]"
   ]
  },
  {
   "cell_type": "code",
   "execution_count": 20,
   "id": "ordered-czech",
   "metadata": {},
   "outputs": [
    {
     "data": {
      "text/plain": [
       "[1, 4, 3]"
      ]
     },
     "execution_count": 20,
     "metadata": {},
     "output_type": "execute_result"
    }
   ],
   "source": [
    "x[1] =4\n",
    "x"
   ]
  },
  {
   "cell_type": "markdown",
   "id": "corporate-extension",
   "metadata": {},
   "source": [
    "## 6. Set"
   ]
  },
  {
   "cell_type": "markdown",
   "id": "crazy-cooking",
   "metadata": {},
   "source": [
    "- A set is a collection of data types similar to list and tuple. **Unlike list and tuple, set is not an ordered collection of items**. **Like in Mathematics, set in Python stores only unique items.**"
   ]
  },
  {
   "cell_type": "code",
   "execution_count": 21,
   "id": "exterior-sensitivity",
   "metadata": {},
   "outputs": [
    {
     "name": "stdout",
     "output_type": "stream",
     "text": [
      "2\n",
      "4\n",
      "5\n",
      "6\n"
     ]
    }
   ],
   "source": [
    "x_set = {2,4,5,6,6}\n",
    "x_set\n",
    "for x in x_set:\n",
    "    print(x)"
   ]
  },
  {
   "cell_type": "markdown",
   "id": "cheap-savings",
   "metadata": {},
   "source": [
    "Check your data type:"
   ]
  },
  {
   "cell_type": "code",
   "execution_count": 22,
   "id": "congressional-silicon",
   "metadata": {},
   "outputs": [
    {
     "data": {
      "text/plain": [
       "dict"
      ]
     },
     "execution_count": 22,
     "metadata": {},
     "output_type": "execute_result"
    }
   ],
   "source": [
    "type({\"name\":\"Aojoie\"})"
   ]
  },
  {
   "cell_type": "markdown",
   "id": "fewer-immunology",
   "metadata": {},
   "source": [
    "## 4-Built in functions in Python"
   ]
  },
  {
   "cell_type": "markdown",
   "id": "civilian-remove",
   "metadata": {},
   "source": [
    "In Python we have lots of built-in functions. Built-in functions are globally available for your use that mean you can make use of the built-in functions without importing or configuring"
   ]
  },
  {
   "cell_type": "markdown",
   "id": "shaped-bruce",
   "metadata": {},
   "source": [
    "**Important ones**"
   ]
  },
  {
   "cell_type": "markdown",
   "id": "occupational-current",
   "metadata": {},
   "source": [
    "`print(), len(), type(), int(), float(), str(), input(), list(), dict(), min(), max(), sum(), sorted(), open(), file(), help(), and dir().`"
   ]
  },
  {
   "cell_type": "code",
   "execution_count": 40,
   "id": "selective-modern",
   "metadata": {},
   "outputs": [
    {
     "data": {
      "text/html": [
       "<img src=\"https://raw.githubusercontent.com/Peymankor/MOD500_week_2/master/img/builtin-functions.png\" width=\"500\" height=\"500\"/>"
      ],
      "text/plain": [
       "<IPython.core.display.Image object>"
      ]
     },
     "execution_count": 40,
     "metadata": {},
     "output_type": "execute_result"
    }
   ],
   "source": [
    "from IPython.display import Image\n",
    "from IPython.core.display import HTML \n",
    "\n",
    "#\n",
    "Image(url= \"https://raw.githubusercontent.com/Peymankor/MOD500_week_2/master/img/builtin-functions.png\",\n",
    "     width=500, height=500) "
   ]
  },
  {
   "cell_type": "code",
   "execution_count": 89,
   "id": "military-stage",
   "metadata": {},
   "outputs": [
    {
     "name": "stdout",
     "output_type": "stream",
     "text": [
      "Help on built-in function min in module builtins:\n",
      "\n",
      "min(...)\n",
      "    min(iterable, *[, default=obj, key=func]) -> value\n",
      "    min(arg1, arg2, *args, *[, key=func]) -> value\n",
      "    \n",
      "    With a single iterable argument, return its smallest item. The\n",
      "    default keyword-only argument specifies an object to return if\n",
      "    the provided iterable is empty.\n",
      "    With two or more arguments, return the smallest argument.\n",
      "\n"
     ]
    }
   ],
   "source": [
    "help(min)"
   ]
  },
  {
   "cell_type": "code",
   "execution_count": 99,
   "id": "extended-density",
   "metadata": {},
   "outputs": [
    {
     "name": "stdout",
     "output_type": "stream",
     "text": [
      "1 is minimum value of x vector, then 6 is the maximum\n",
      "value of x. Further, we computed sumation of x is equal to 21\n"
     ]
    }
   ],
   "source": [
    "\n",
    "x = [2,3,1,4,5,6]\n",
    "\n",
    "#####\n",
    "\n",
    "min_x=min(x)\n",
    "max_x=max(x)\n",
    "sum_x = sum(x)\n",
    "\n",
    "\n",
    "####\n",
    "\n",
    "template = \"\"\"%d is minimum value of x vector, then %d is the maximum\n",
    "value of x. Further, we computed sumation of x is equal to %d\"\"\"\n",
    "\n",
    "formatted = template % (min_x, max_x, sum_x)\n",
    "print(formatted)"
   ]
  },
  {
   "cell_type": "markdown",
   "id": "spread-survey",
   "metadata": {},
   "source": [
    "## Operator"
   ]
  },
  {
   "cell_type": "markdown",
   "id": "eastern-renewal",
   "metadata": {},
   "source": [
    "- Arithmetic Operators:"
   ]
  },
  {
   "cell_type": "code",
   "execution_count": 41,
   "id": "latin-haven",
   "metadata": {},
   "outputs": [
    {
     "data": {
      "text/html": [
       "<img src=\"https://raw.githubusercontent.com/Peymankor/MOD500_week_2/master/img/arithmetic_operators.png\" width=\"500\" height=\"500\"/>"
      ],
      "text/plain": [
       "<IPython.core.display.Image object>"
      ]
     },
     "execution_count": 41,
     "metadata": {},
     "output_type": "execute_result"
    }
   ],
   "source": [
    "Image(url= \"https://raw.githubusercontent.com/Peymankor/MOD500_week_2/master/img/arithmetic_operators.png\",\n",
    "     width=500, height=500) \n"
   ]
  },
  {
   "cell_type": "code",
   "execution_count": 107,
   "id": "british-toronto",
   "metadata": {},
   "outputs": [
    {
     "name": "stdout",
     "output_type": "stream",
     "text": [
      "1.6666666666666667\n",
      "4\n",
      "1\n"
     ]
    }
   ],
   "source": [
    "num_one = 10\n",
    "num_two = 6\n",
    "\n",
    "div = num_one/num_two\n",
    "mod = num_one % num_two\n",
    "floor_div = num_one // num_two\n",
    "print(div)\n",
    "print(mod)\n",
    "print(floor_div)"
   ]
  },
  {
   "cell_type": "markdown",
   "id": "specialized-alias",
   "metadata": {},
   "source": [
    "- Comparison Operators\n"
   ]
  },
  {
   "cell_type": "code",
   "execution_count": 48,
   "id": "modular-paste",
   "metadata": {},
   "outputs": [
    {
     "data": {
      "text/html": [
       "<img src=\"https://raw.githubusercontent.com/Peymankor/MOD500_week_2/master/img/comparison_operators.png\" width=\"500\" height=\"500\"/>"
      ],
      "text/plain": [
       "<IPython.core.display.Image object>"
      ]
     },
     "execution_count": 48,
     "metadata": {},
     "output_type": "execute_result"
    }
   ],
   "source": [
    "Image(url=\"https://raw.githubusercontent.com/Peymankor/MOD500_week_2/master/img/comparison_operators.png\",\n",
    "     width=500, height=500)"
   ]
  },
  {
   "cell_type": "markdown",
   "id": "decimal-combining",
   "metadata": {},
   "source": []
  },
  {
   "cell_type": "markdown",
   "id": "peaceful-checkout",
   "metadata": {},
   "source": [
    "## 5-Loops"
   ]
  },
  {
   "cell_type": "markdown",
   "id": "intended-energy",
   "metadata": {},
   "source": [
    "In programming we do lots of repetitive tasks. In order to handle repetitive task programming languages use loops. Python programming language also provides the following types of two loops:"
   ]
  },
  {
   "cell_type": "markdown",
   "id": "vietnamese-joseph",
   "metadata": {},
   "source": [
    "- while lopp\n",
    "- for loop"
   ]
  },
  {
   "cell_type": "markdown",
   "id": "environmental-italy",
   "metadata": {},
   "source": [
    "- ### While loop"
   ]
  },
  {
   "cell_type": "code",
   "execution_count": 110,
   "id": "spare-identifier",
   "metadata": {},
   "outputs": [],
   "source": [
    "  # syntax\n",
    "# while condition:\n",
    "#     code goes here"
   ]
  },
  {
   "cell_type": "markdown",
   "id": "other-second",
   "metadata": {},
   "source": [
    "Example:"
   ]
  },
  {
   "cell_type": "code",
   "execution_count": 109,
   "id": "basic-seating",
   "metadata": {},
   "outputs": [
    {
     "name": "stdout",
     "output_type": "stream",
     "text": [
      "0\n",
      "1\n",
      "2\n",
      "3\n",
      "4\n"
     ]
    }
   ],
   "source": [
    "count = 0\n",
    "while count < 5:\n",
    "    print(count)\n",
    "    count = count + 1"
   ]
  },
  {
   "cell_type": "markdown",
   "id": "broad-macro",
   "metadata": {},
   "source": [
    "- Break and Continue:"
   ]
  },
  {
   "cell_type": "code",
   "execution_count": 111,
   "id": "pressing-glenn",
   "metadata": {},
   "outputs": [],
   "source": [
    "# syntax\n",
    "#while condition:\n",
    "#    code goes here\n",
    "#    if another_condition:\n",
    "#        break"
   ]
  },
  {
   "cell_type": "code",
   "execution_count": 119,
   "id": "capital-episode",
   "metadata": {},
   "outputs": [
    {
     "name": "stdout",
     "output_type": "stream",
     "text": [
      "0\n",
      "1\n",
      "2\n"
     ]
    }
   ],
   "source": [
    "count = 0\n",
    "while count < 5:\n",
    "    print(count)\n",
    "    count = count + 1\n",
    "    if count == 3:\n",
    "        break"
   ]
  },
  {
   "cell_type": "code",
   "execution_count": 139,
   "id": "third-opportunity",
   "metadata": {},
   "outputs": [
    {
     "name": "stdout",
     "output_type": "stream",
     "text": [
      "who are you?\n"
     ]
    },
    {
     "name": "stdin",
     "output_type": "stream",
     "text": [
      " Aojie\n"
     ]
    },
    {
     "name": "stdout",
     "output_type": "stream",
     "text": [
      "Hello, Aojie. What is the password? (it is fish)\n"
     ]
    },
    {
     "name": "stdin",
     "output_type": "stream",
     "text": [
      " swordfish\n"
     ]
    },
    {
     "name": "stdout",
     "output_type": "stream",
     "text": [
      "Access granted.\n"
     ]
    }
   ],
   "source": [
    "while True:\n",
    "    \n",
    "    print(\"who are you?\")\n",
    "    name = input()\n",
    "    \n",
    "    if name != \"Aojie\":\n",
    "        continue\n",
    "    \n",
    "    print(\"Hello, Aojie. What is the password? (it is fish)\")\n",
    "    password = input()\n",
    "    \n",
    "    if password == \"swordfish\":\n",
    "        break\n",
    "\n",
    "print(\"Access granted.\")        "
   ]
  },
  {
   "cell_type": "code",
   "execution_count": 55,
   "id": "boring-format",
   "metadata": {},
   "outputs": [
    {
     "data": {
      "text/html": [
       "<img src=\"https://raw.githubusercontent.com/Peymankor/MOD500_week_2/master/img/break_continue_while.png\" width=\"500\" height=\"400\"/>"
      ],
      "text/plain": [
       "<IPython.core.display.Image object>"
      ]
     },
     "execution_count": 55,
     "metadata": {},
     "output_type": "execute_result"
    }
   ],
   "source": [
    "Image(url='https://raw.githubusercontent.com/Peymankor/MOD500_week_2/master/img/break_continue_while.png',\n",
    "     width=500, height=400)"
   ]
  },
  {
   "cell_type": "markdown",
   "id": "naval-performance",
   "metadata": {},
   "source": [
    "## For Loop "
   ]
  },
  {
   "cell_type": "code",
   "execution_count": 140,
   "id": "occasional-instruction",
   "metadata": {},
   "outputs": [],
   "source": [
    "# syntax\n",
    "#for iterator in lst:\n",
    "#    code goes here"
   ]
  },
  {
   "cell_type": "code",
   "execution_count": 142,
   "id": "bridal-japanese",
   "metadata": {},
   "outputs": [
    {
     "name": "stdout",
     "output_type": "stream",
     "text": [
      "0\n",
      "1\n",
      "2\n",
      "3\n",
      "4\n",
      "5\n"
     ]
    }
   ],
   "source": [
    "numbers = [0, 1, 2, 3, 4, 5]\n",
    "for number in numbers: \n",
    "    print(number)  "
   ]
  },
  {
   "cell_type": "markdown",
   "id": "olive-reynolds",
   "metadata": {},
   "source": [
    "Note: number is temporary name to refer to the list's item, valid only inside this loop"
   ]
  },
  {
   "cell_type": "markdown",
   "id": "soviet-universal",
   "metadata": {},
   "source": [
    "**Important**: \n",
    "    For loop with dictionary Looping through a dictionary gives you the key of the dictionary."
   ]
  },
  {
   "cell_type": "code",
   "execution_count": 143,
   "id": "immune-cyprus",
   "metadata": {},
   "outputs": [],
   "source": [
    "person = {\"first_name\": \"Aojie\",\n",
    "          \"Last_name\": \"Hong\",\n",
    "          \"Country\": \"Norway\",\n",
    "          \"Skills\": [\"Python\", \"MATLAB\", \"HTML\"]\n",
    "    \n",
    "}"
   ]
  },
  {
   "cell_type": "code",
   "execution_count": 144,
   "id": "round-wholesale",
   "metadata": {},
   "outputs": [
    {
     "name": "stdout",
     "output_type": "stream",
     "text": [
      "first_name\n",
      "Last_name\n",
      "Country\n",
      "Skills\n"
     ]
    }
   ],
   "source": [
    "for key in person:\n",
    "    print(key)"
   ]
  },
  {
   "cell_type": "code",
   "execution_count": 147,
   "id": "external-huntington",
   "metadata": {},
   "outputs": [
    {
     "name": "stdout",
     "output_type": "stream",
     "text": [
      "first_name Aojie\n",
      "Last_name Hong\n",
      "Country Norway\n",
      "Skills ['Python', 'MATLAB', 'HTML']\n"
     ]
    }
   ],
   "source": [
    "for key, value in person.items():\n",
    "    print(key, value)"
   ]
  },
  {
   "cell_type": "markdown",
   "id": "surface-brother",
   "metadata": {},
   "source": [
    "- The Range Function"
   ]
  },
  {
   "cell_type": "markdown",
   "id": "decreased-infrared",
   "metadata": {},
   "source": [
    "The `range()` function is used list of numbers. The range(start, end, step) takes three parameters: starting, ending and increment. By default it starts from 0 and the increment is 1"
   ]
  },
  {
   "cell_type": "code",
   "execution_count": 149,
   "id": "nuclear-upgrade",
   "metadata": {},
   "outputs": [
    {
     "name": "stdout",
     "output_type": "stream",
     "text": [
      "[0, 1, 2, 3, 4, 5, 6, 7, 8, 9, 10]\n",
      "{1, 2, 3, 4, 5, 6, 7, 8, 9, 10}\n",
      "[0, 2, 4, 6, 8, 10]\n",
      "{0, 2, 4, 6, 8, 10}\n"
     ]
    }
   ],
   "source": [
    "lst = list(range(11)) \n",
    "print(lst) # [0, 1, 2, 3, 4, 5, 6, 7, 8, 9, 10]\n",
    "st = set(range(1, 11))    # 2 arguments indicate start and end of the sequence, step set to default 1\n",
    "print(st) # {1, 2, 3, 4, 5, 6, 7, 8, 9, 10}\n",
    "\n",
    "lst = list(range(0,11,2))\n",
    "print(lst) # [0, 2, 4, 6, 8, 10]\n",
    "st = set(range(0,11,2))\n",
    "print(st) #  {0, 2, 4, 6, 8, 10"
   ]
  },
  {
   "cell_type": "markdown",
   "id": "rising-consciousness",
   "metadata": {},
   "source": [
    "## 6-Functions"
   ]
  },
  {
   "cell_type": "markdown",
   "id": "special-effects",
   "metadata": {},
   "source": [
    "So far we have seen many built-in Python functions. In this section, we will focus on custom functions. What is a function?"
   ]
  },
  {
   "cell_type": "markdown",
   "id": "disciplinary-energy",
   "metadata": {},
   "source": [
    "A function is a reusable block of code or programming statements designed to perform a certain task. To define or declare a function, Python provides the `def` keyword."
   ]
  },
  {
   "cell_type": "markdown",
   "id": "faced-priest",
   "metadata": {},
   "source": [
    "- Function with Default Parameters"
   ]
  },
  {
   "cell_type": "code",
   "execution_count": 64,
   "id": "ranging-pleasure",
   "metadata": {},
   "outputs": [],
   "source": [
    "# syntax\n",
    "  # Declaring a function\n",
    "#  def function_name(parameter):\n",
    "#    codes\n",
    "#    codes\n",
    "  # Calling function\n",
    "#  print(function_name(argument))"
   ]
  },
  {
   "cell_type": "code",
   "execution_count": 65,
   "id": "willing-tension",
   "metadata": {},
   "outputs": [],
   "source": [
    "def area_of_circle(r):\n",
    "    \n",
    "    PI = 3.14\n",
    "    \n",
    "    area = PI * (r ** 2)\n",
    "    \n",
    "    return area"
   ]
  },
  {
   "cell_type": "code",
   "execution_count": 66,
   "id": "christian-diving",
   "metadata": {},
   "outputs": [
    {
     "data": {
      "text/plain": [
       "28.26"
      ]
     },
     "execution_count": 66,
     "metadata": {},
     "output_type": "execute_result"
    }
   ],
   "source": [
    "area_of_circle(3)"
   ]
  },
  {
   "cell_type": "markdown",
   "id": "inside-democracy",
   "metadata": {},
   "source": [
    "- Arbitrary Number of Arguments"
   ]
  },
  {
   "cell_type": "code",
   "execution_count": 67,
   "id": "traditional-alert",
   "metadata": {},
   "outputs": [],
   "source": [
    "# syntax\n",
    "# Declaring a function\n",
    "# def function_name(*args):\n",
    "#    codes\n",
    "#    codes\n",
    "# Calling function\n",
    "# function_name(param1, param2, param3,..)"
   ]
  },
  {
   "cell_type": "code",
   "execution_count": 61,
   "id": "hazardous-bahrain",
   "metadata": {},
   "outputs": [],
   "source": [
    "def sum_all_nums(*nums):\n",
    "    total = 0\n",
    "    for num in nums:\n",
    "        total += num     # same as total = total + num \n",
    "    return total\n"
   ]
  },
  {
   "cell_type": "code",
   "execution_count": 68,
   "id": "included-auction",
   "metadata": {},
   "outputs": [
    {
     "data": {
      "text/plain": [
       "6"
      ]
     },
     "execution_count": 68,
     "metadata": {},
     "output_type": "execute_result"
    }
   ],
   "source": [
    "sum_all_nums(1,2,3)"
   ]
  },
  {
   "cell_type": "code",
   "execution_count": null,
   "id": "packed-swaziland",
   "metadata": {},
   "outputs": [],
   "source": []
  }
 ],
 "metadata": {
  "kernelspec": {
   "display_name": "Python 3",
   "language": "python",
   "name": "python3"
  },
  "language_info": {
   "codemirror_mode": {
    "name": "ipython",
    "version": 3
   },
   "file_extension": ".py",
   "mimetype": "text/x-python",
   "name": "python",
   "nbconvert_exporter": "python",
   "pygments_lexer": "ipython3",
   "version": "3.7.6"
  }
 },
 "nbformat": 4,
 "nbformat_minor": 5
}
