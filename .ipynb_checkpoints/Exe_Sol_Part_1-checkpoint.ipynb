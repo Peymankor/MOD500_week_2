{
 "cells": [
  {
   "cell_type": "markdown",
   "id": "brutal-thickness",
   "metadata": {},
   "source": [
    "## Solution to Exercises - Part 1"
   ]
  },
  {
   "cell_type": "markdown",
   "id": "regulation-possibility",
   "metadata": {},
   "source": [
    "**1.** Declare 5 as num_one and 4 as num_two"
   ]
  },
  {
   "cell_type": "markdown",
   "id": "enclosed-pastor",
   "metadata": {},
   "source": [
    "- a) Subtract num_two from num_one and assign the value to a variable diff\n",
    "- b) Multiply num_two and num_one and assign the value to a variable product\n",
    "- c) Divide num_one by num_two and assign the value to a variable division\n",
    "- d) Use modulus division to find num_two divided by num_one and assign the value to a variable remainder\n",
    "- e) Calculate num_one to the power of num_two and assign the value to a variable exp"
   ]
  },
  {
   "cell_type": "markdown",
   "id": "color-accuracy",
   "metadata": {},
   "source": [
    "**<font color='red'>Sol</font>**:"
   ]
  },
  {
   "cell_type": "code",
   "execution_count": 35,
   "id": "amended-deviation",
   "metadata": {},
   "outputs": [],
   "source": [
    "num_one = 5\n",
    "num_two = 4"
   ]
  },
  {
   "cell_type": "code",
   "execution_count": 36,
   "id": "indoor-marks",
   "metadata": {},
   "outputs": [],
   "source": [
    "diff=num_one-num_two\n",
    "product = num_one*num_two\n",
    "division = num_one/num_two\n",
    "remaimder = num_one/num_two\n",
    "exp = num_one**num_two"
   ]
  },
  {
   "cell_type": "markdown",
   "id": "alone-comparative",
   "metadata": {},
   "source": [
    "**2.** Write function to calculate the circumference of a circle. \n",
    "Test your function with $r$=10"
   ]
  },
  {
   "cell_type": "markdown",
   "id": "broad-document",
   "metadata": {},
   "source": [
    "**<font color='red'>Sol</font>**:"
   ]
  },
  {
   "cell_type": "code",
   "execution_count": 37,
   "id": "protected-therapy",
   "metadata": {},
   "outputs": [],
   "source": [
    "def circumference_cal(r):\n",
    "    \n",
    "    PI = 3.14\n",
    "    \n",
    "    circumference =2*PI*r\n",
    "    \n",
    "    return(circumference)"
   ]
  },
  {
   "cell_type": "code",
   "execution_count": 38,
   "id": "following-factory",
   "metadata": {},
   "outputs": [
    {
     "data": {
      "text/plain": [
       "62.800000000000004"
      ]
     },
     "execution_count": 38,
     "metadata": {},
     "output_type": "execute_result"
    }
   ],
   "source": [
    "circumference_cal(10)"
   ]
  },
  {
   "cell_type": "markdown",
   "id": "liked-absence",
   "metadata": {},
   "source": [
    "**3.** Use `for` loop to iterate from 0 to 100 and print:"
   ]
  },
  {
   "cell_type": "markdown",
   "id": "indoor-volunteer",
   "metadata": {},
   "source": [
    "- a ) print the sum of all numbers"
   ]
  },
  {
   "cell_type": "code",
   "execution_count": 39,
   "id": "functional-prairie",
   "metadata": {},
   "outputs": [],
   "source": [
    "total = 0\n",
    "for num in range(101):\n",
    "    total = total + num"
   ]
  },
  {
   "cell_type": "code",
   "execution_count": 40,
   "id": "framed-activity",
   "metadata": {},
   "outputs": [
    {
     "data": {
      "text/plain": [
       "5050"
      ]
     },
     "execution_count": 40,
     "metadata": {},
     "output_type": "execute_result"
    }
   ],
   "source": [
    "total"
   ]
  },
  {
   "cell_type": "markdown",
   "id": "empty-technical",
   "metadata": {},
   "source": [
    "- b ) sum of all evens and the sum of all odds"
   ]
  },
  {
   "cell_type": "markdown",
   "id": "brown-hudson",
   "metadata": {},
   "source": [
    "**<font color='red'>Sol</font>**:"
   ]
  },
  {
   "cell_type": "code",
   "execution_count": 41,
   "id": "chicken-financing",
   "metadata": {},
   "outputs": [
    {
     "data": {
      "text/plain": [
       "2550"
      ]
     },
     "execution_count": 41,
     "metadata": {},
     "output_type": "execute_result"
    }
   ],
   "source": [
    "total_even = 0\n",
    "for num in range(101):\n",
    "    if num % 2 == 0:\n",
    "        total_even = total_even + num\n",
    "\n",
    "total_even"
   ]
  },
  {
   "cell_type": "code",
   "execution_count": 42,
   "id": "noted-conducting",
   "metadata": {},
   "outputs": [
    {
     "data": {
      "text/plain": [
       "2500"
      ]
     },
     "execution_count": 42,
     "metadata": {},
     "output_type": "execute_result"
    }
   ],
   "source": [
    "total_odds = 0\n",
    "for num in range(101):\n",
    "    if num % 2 == 1:\n",
    "        total_odds = total_odds + num\n",
    "\n",
    "total_odds"
   ]
  },
  {
   "cell_type": "markdown",
   "id": "bacterial-pottery",
   "metadata": {},
   "source": [
    "**4.** Declare a function named: "
   ]
  },
  {
   "cell_type": "markdown",
   "id": "premium-indian",
   "metadata": {},
   "source": [
    "a ) counts_even that take a positive integer as parameter and counts number of even numbers in the number"
   ]
  },
  {
   "cell_type": "markdown",
   "id": "laughing-appraisal",
   "metadata": {},
   "source": [
    "**<font color='red'>Sol</font>**:"
   ]
  },
  {
   "cell_type": "code",
   "execution_count": 52,
   "id": "numerical-feelings",
   "metadata": {},
   "outputs": [
    {
     "data": {
      "text/plain": [
       "6"
      ]
     },
     "execution_count": 52,
     "metadata": {},
     "output_type": "execute_result"
    }
   ],
   "source": [
    "def counts_even(number):\n",
    "    number_of_even = 0\n",
    "    for num in range(number):\n",
    "        if num % 2 == 0:\n",
    "            number_of_even  = number_of_even + 1\n",
    "    return(number_of_even)        \n",
    "\n",
    "counts_even(11)"
   ]
  },
  {
   "cell_type": "markdown",
   "id": "roman-services",
   "metadata": {},
   "source": [
    "b ) counts_odds that take a positive integer as parameter and counts number of odds numbers in the number"
   ]
  },
  {
   "cell_type": "markdown",
   "id": "conservative-cocktail",
   "metadata": {},
   "source": [
    "**<font color='red'>Sol</font>**:"
   ]
  },
  {
   "cell_type": "code",
   "execution_count": 53,
   "id": "realistic-characterization",
   "metadata": {},
   "outputs": [
    {
     "data": {
      "text/plain": [
       "5"
      ]
     },
     "execution_count": 53,
     "metadata": {},
     "output_type": "execute_result"
    }
   ],
   "source": [
    "def counts_odds(number):\n",
    "    number_of_odds = 0\n",
    "    for num in range(number):\n",
    "        if num % 2 == 1:\n",
    "            number_of_odds  = number_of_odds + 1\n",
    "    return(number_of_odds)    \n",
    "\n",
    "counts_odds(11)"
   ]
  },
  {
   "cell_type": "markdown",
   "id": "exempt-thriller",
   "metadata": {},
   "source": [
    "**5**. Arps Decline Curve Model"
   ]
  },
  {
   "cell_type": "markdown",
   "id": "structural-distinction",
   "metadata": {},
   "source": [
    "\\begin{equation}\n",
    "  q_t =\n",
    "  \\begin{cases}\n",
    "    {q_0}(1+b{D_i}t)^{-1/b} & \\text{if $0<b\\leq1$} \\\\\n",
    "    {q_0}e^{-{D_i}t} & \\text{if $b=0$} \\\\\n",
    "  \\end{cases}\n",
    "\\end{equation}\n",
    "\n",
    "where $q_t$ is the rate at time $t$, $q_0$ is the initial rate at $t=0$, $D_i$ is the initial decline rate, and $b$ is the decline exponent."
   ]
  },
  {
   "cell_type": "markdown",
   "id": "incorporate-literacy",
   "metadata": {},
   "source": [
    "a) Write function for Arps Decline curve model"
   ]
  },
  {
   "cell_type": "markdown",
   "id": "excited-hardware",
   "metadata": {},
   "source": [
    "**<font color='red'>Sol</font>**:"
   ]
  },
  {
   "cell_type": "code",
   "execution_count": 54,
   "id": "brave-sister",
   "metadata": {},
   "outputs": [],
   "source": [
    "def ArpsModel(q0, b, Di, t):\n",
    "    if b==0:\n",
    "        qt = q0*np.exp(-Di*t)\n",
    "        return qt\n",
    "    elif 0<b and b<=1:\n",
    "        qt = q0*(1+b*Di*t)**(-1/b)\n",
    "        return qt\n",
    "    else:\n",
    "        raise Warning(\"b must be from 0 to 1.\")"
   ]
  },
  {
   "cell_type": "markdown",
   "id": "liable-fishing",
   "metadata": {},
   "source": [
    "b) Calculate $q_t$ for time between $1$ to $10$"
   ]
  },
  {
   "cell_type": "markdown",
   "id": "southeast-creation",
   "metadata": {},
   "source": [
    "**<font color='red'>Sol</font>**:"
   ]
  },
  {
   "cell_type": "markdown",
   "id": "academic-appreciation",
   "metadata": {},
   "source": [
    "We need to define some initial values for *q0*, *b*, *Di*: "
   ]
  },
  {
   "cell_type": "code",
   "execution_count": 55,
   "id": "modified-begin",
   "metadata": {},
   "outputs": [],
   "source": [
    "q0 = 1000 # bbl/day\n",
    "b = 1\n",
    "Di = 0.02 # 1/day"
   ]
  },
  {
   "cell_type": "code",
   "execution_count": 56,
   "id": "controlling-barrier",
   "metadata": {},
   "outputs": [
    {
     "name": "stdout",
     "output_type": "stream",
     "text": [
      "The modeled oil production rate on Day  0  is 1000.0  bbl/day.\n",
      "The modeled oil production rate on Day  1  is 980.3921568627451  bbl/day.\n",
      "The modeled oil production rate on Day  2  is 961.5384615384614  bbl/day.\n",
      "The modeled oil production rate on Day  3  is 943.3962264150942  bbl/day.\n",
      "The modeled oil production rate on Day  4  is 925.9259259259259  bbl/day.\n",
      "The modeled oil production rate on Day  5  is 909.090909090909  bbl/day.\n",
      "The modeled oil production rate on Day  6  is 892.8571428571428  bbl/day.\n",
      "The modeled oil production rate on Day  7  is 877.1929824561403  bbl/day.\n",
      "The modeled oil production rate on Day  8  is 862.0689655172414  bbl/day.\n",
      "The modeled oil production rate on Day  9  is 847.4576271186442  bbl/day.\n",
      "The modeled oil production rate on Day  10  is 833.3333333333334  bbl/day.\n"
     ]
    }
   ],
   "source": [
    "for t in range(11):\n",
    "    qt = ArpsModel(q0, b, Di, t)\n",
    "    print('The modeled oil production rate on Day ', t, ' is', qt, ' bbl/day.')"
   ]
  }
 ],
 "metadata": {
  "kernelspec": {
   "display_name": "Python 3",
   "language": "python",
   "name": "python3"
  },
  "language_info": {
   "codemirror_mode": {
    "name": "ipython",
    "version": 3
   },
   "file_extension": ".py",
   "mimetype": "text/x-python",
   "name": "python",
   "nbconvert_exporter": "python",
   "pygments_lexer": "ipython3",
   "version": "3.7.6"
  }
 },
 "nbformat": 4,
 "nbformat_minor": 5
}
