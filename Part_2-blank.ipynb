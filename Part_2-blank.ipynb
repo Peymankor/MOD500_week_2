{
 "cells": [
  {
   "cell_type": "markdown",
   "id": "alpine-inflation",
   "metadata": {},
   "source": [
    "# Modeling for Decision Insight - MOD500\n",
    "## Week 2 - Introduction to Python\n",
    "## Part (II)"
   ]
  },
  {
   "cell_type": "markdown",
   "id": "intermediate-helicopter",
   "metadata": {},
   "source": [
    "### Content:"
   ]
  },
  {
   "cell_type": "markdown",
   "id": "accessory-division",
   "metadata": {},
   "source": [
    "- [Topic 1: Introduction to NumPy](#1-Introduction-to-NumPy)\n",
    "- [Topic 2: Introduction to Pandas](#2-Introduction-to-Pandas)\n",
    "- [Topic 3: Visualiation in Python](#3-Visulization-in-Python)\n",
    "- [Exercises](#Exercises)"
   ]
  },
  {
   "cell_type": "markdown",
   "id": "developmental-examination",
   "metadata": {},
   "source": [
    "## 1-Introduction to NumPy"
   ]
  },
  {
   "cell_type": "markdown",
   "id": "stable-exhibition",
   "metadata": {},
   "source": [
    "NumPy is the core library for scientific computing in Python. It provides a high-performance multidimensional array object, and tools for working with arrays."
   ]
  },
  {
   "cell_type": "markdown",
   "id": "rising-methodology",
   "metadata": {},
   "source": [
    "It is avilable in anaconda distribution of Python with name of `numpy`:"
   ]
  },
  {
   "cell_type": "code",
   "execution_count": null,
   "id": "natural-makeup",
   "metadata": {},
   "outputs": [],
   "source": [
    "import numpy as np"
   ]
  },
  {
   "cell_type": "code",
   "execution_count": null,
   "id": "genuine-rebound",
   "metadata": {},
   "outputs": [],
   "source": [
    "#### In Class ########"
   ]
  },
  {
   "cell_type": "code",
   "execution_count": null,
   "id": "united-arbitration",
   "metadata": {},
   "outputs": [],
   "source": [
    "#### In Class ########"
   ]
  },
  {
   "cell_type": "code",
   "execution_count": null,
   "id": "chubby-liver",
   "metadata": {},
   "outputs": [],
   "source": [
    "#### In Class ########"
   ]
  },
  {
   "cell_type": "code",
   "execution_count": null,
   "id": "final-canyon",
   "metadata": {},
   "outputs": [],
   "source": [
    "#### In Class ########"
   ]
  },
  {
   "cell_type": "code",
   "execution_count": null,
   "id": "narrow-adelaide",
   "metadata": {},
   "outputs": [],
   "source": [
    "#### In Class ########"
   ]
  },
  {
   "cell_type": "code",
   "execution_count": null,
   "id": "apart-fundamentals",
   "metadata": {},
   "outputs": [],
   "source": [
    "#### In Class ########"
   ]
  },
  {
   "cell_type": "markdown",
   "id": "finished-superintendent",
   "metadata": {},
   "source": [
    "- Mathematical Operation using numpy\n"
   ]
  },
  {
   "cell_type": "code",
   "execution_count": null,
   "id": "unusual-movie",
   "metadata": {},
   "outputs": [],
   "source": [
    "#### In Class ########"
   ]
  },
  {
   "cell_type": "code",
   "execution_count": null,
   "id": "superior-fault",
   "metadata": {},
   "outputs": [],
   "source": [
    "#### In Class ########"
   ]
  },
  {
   "cell_type": "markdown",
   "id": "developmental-cooking",
   "metadata": {},
   "source": [
    "- Getting items from a numpy array\n"
   ]
  },
  {
   "cell_type": "code",
   "execution_count": null,
   "id": "immune-judges",
   "metadata": {},
   "outputs": [],
   "source": [
    "# 2 Dimension Array\n",
    "#### In Class ########"
   ]
  },
  {
   "cell_type": "code",
   "execution_count": null,
   "id": "terminal-nickname",
   "metadata": {},
   "outputs": [],
   "source": [
    "# Extract rows:"
   ]
  },
  {
   "cell_type": "code",
   "execution_count": null,
   "id": "better-welsh",
   "metadata": {},
   "outputs": [],
   "source": [
    "#### In Class ########"
   ]
  },
  {
   "cell_type": "code",
   "execution_count": null,
   "id": "lesser-phenomenon",
   "metadata": {},
   "outputs": [],
   "source": [
    "#### In Class ########"
   ]
  },
  {
   "cell_type": "markdown",
   "id": "vital-reynolds",
   "metadata": {},
   "source": [
    "- Slicing Numpy array"
   ]
  },
  {
   "cell_type": "code",
   "execution_count": null,
   "id": "fatty-tracy",
   "metadata": {},
   "outputs": [],
   "source": [
    "#### In Class ########"
   ]
  },
  {
   "cell_type": "markdown",
   "id": "silver-parks",
   "metadata": {},
   "source": [
    "- Generationg random numbers\n"
   ]
  },
  {
   "cell_type": "code",
   "execution_count": null,
   "id": "velvet-harris",
   "metadata": {},
   "outputs": [],
   "source": [
    "#### In Class ########"
   ]
  },
  {
   "cell_type": "code",
   "execution_count": null,
   "id": "anticipated-layer",
   "metadata": {},
   "outputs": [],
   "source": [
    "#### In Class ########"
   ]
  },
  {
   "cell_type": "markdown",
   "id": "graduate-asthma",
   "metadata": {},
   "source": [
    "### Plot Distribution "
   ]
  },
  {
   "cell_type": "code",
   "execution_count": null,
   "id": "distinct-participation",
   "metadata": {},
   "outputs": [],
   "source": [
    "#### In Class ########"
   ]
  },
  {
   "cell_type": "code",
   "execution_count": null,
   "id": "effective-killer",
   "metadata": {},
   "outputs": [],
   "source": [
    "import seaborn as sns"
   ]
  },
  {
   "cell_type": "code",
   "execution_count": null,
   "id": "short-quarter",
   "metadata": {},
   "outputs": [],
   "source": [
    "#### In Class ########"
   ]
  },
  {
   "cell_type": "markdown",
   "id": "loved-mortgage",
   "metadata": {},
   "source": [
    "## 2-Introduction to Pandas"
   ]
  },
  {
   "cell_type": "code",
   "execution_count": null,
   "id": "allied-harassment",
   "metadata": {},
   "outputs": [],
   "source": [
    "import pandas as pd"
   ]
  },
  {
   "cell_type": "code",
   "execution_count": null,
   "id": "fancy-concord",
   "metadata": {},
   "outputs": [],
   "source": [
    "df = pd.read_csv('weight-height.csv')"
   ]
  },
  {
   "cell_type": "code",
   "execution_count": null,
   "id": "consolidated-subject",
   "metadata": {},
   "outputs": [],
   "source": [
    "#### In Class ########"
   ]
  },
  {
   "cell_type": "code",
   "execution_count": null,
   "id": "constitutional-performance",
   "metadata": {},
   "outputs": [],
   "source": [
    "#### In Class ########"
   ]
  },
  {
   "cell_type": "code",
   "execution_count": null,
   "id": "cross-prayer",
   "metadata": {},
   "outputs": [],
   "source": [
    "#### In Class ########"
   ]
  },
  {
   "cell_type": "code",
   "execution_count": null,
   "id": "played-option",
   "metadata": {},
   "outputs": [],
   "source": [
    "#### In Class ########"
   ]
  },
  {
   "cell_type": "code",
   "execution_count": null,
   "id": "heated-gasoline",
   "metadata": {},
   "outputs": [],
   "source": [
    "#### In Class ########"
   ]
  },
  {
   "cell_type": "code",
   "execution_count": null,
   "id": "characteristic-association",
   "metadata": {},
   "outputs": [],
   "source": [
    "#### In Class ########"
   ]
  },
  {
   "cell_type": "code",
   "execution_count": null,
   "id": "large-assumption",
   "metadata": {},
   "outputs": [],
   "source": [
    "#### In Class ########"
   ]
  },
  {
   "cell_type": "code",
   "execution_count": null,
   "id": "colored-blowing",
   "metadata": {},
   "outputs": [],
   "source": [
    "#### In Class ########"
   ]
  },
  {
   "cell_type": "code",
   "execution_count": null,
   "id": "dress-panel",
   "metadata": {},
   "outputs": [],
   "source": [
    "#### In Class ########"
   ]
  },
  {
   "cell_type": "code",
   "execution_count": null,
   "id": "sixth-seeker",
   "metadata": {},
   "outputs": [],
   "source": [
    "#### In Class ########"
   ]
  },
  {
   "cell_type": "code",
   "execution_count": null,
   "id": "ready-brave",
   "metadata": {},
   "outputs": [],
   "source": [
    "#### In Class ########"
   ]
  },
  {
   "cell_type": "code",
   "execution_count": null,
   "id": "filled-hebrew",
   "metadata": {},
   "outputs": [],
   "source": [
    "#### In Class ########"
   ]
  },
  {
   "cell_type": "code",
   "execution_count": null,
   "id": "vocal-encounter",
   "metadata": {},
   "outputs": [],
   "source": [
    "#### In Class ########"
   ]
  },
  {
   "cell_type": "code",
   "execution_count": null,
   "id": "illegal-experience",
   "metadata": {},
   "outputs": [],
   "source": [
    "#### In Class ########"
   ]
  },
  {
   "cell_type": "code",
   "execution_count": null,
   "id": "eastern-jackson",
   "metadata": {},
   "outputs": [],
   "source": [
    "#### In Class ########"
   ]
  },
  {
   "cell_type": "markdown",
   "id": "proper-terrorist",
   "metadata": {},
   "source": [
    "## 3-Visulization in Python"
   ]
  },
  {
   "cell_type": "code",
   "execution_count": null,
   "id": "unknown-buying",
   "metadata": {},
   "outputs": [],
   "source": [
    "#### In Class ########"
   ]
  },
  {
   "cell_type": "code",
   "execution_count": null,
   "id": "double-exploration",
   "metadata": {},
   "outputs": [],
   "source": [
    "#### In Class ########"
   ]
  },
  {
   "cell_type": "code",
   "execution_count": null,
   "id": "medium-possibility",
   "metadata": {},
   "outputs": [],
   "source": [
    "#### In Class ########"
   ]
  },
  {
   "cell_type": "code",
   "execution_count": null,
   "id": "pacific-screening",
   "metadata": {},
   "outputs": [],
   "source": [
    "#### In Class ########"
   ]
  },
  {
   "cell_type": "code",
   "execution_count": null,
   "id": "distributed-limitation",
   "metadata": {},
   "outputs": [],
   "source": [
    "#### In Class ########"
   ]
  },
  {
   "cell_type": "markdown",
   "id": "exotic-minnesota",
   "metadata": {},
   "source": [
    "## Exercises "
   ]
  },
  {
   "cell_type": "markdown",
   "id": "fifteen-technical",
   "metadata": {},
   "source": [
    "**1**.Use the following code to answer questions:"
   ]
  },
  {
   "cell_type": "code",
   "execution_count": null,
   "id": "broad-grace",
   "metadata": {},
   "outputs": [],
   "source": [
    "X = np.array([4, 10, 12, 23, -2, -1, 0, 0, 0, -6, 3, -7])"
   ]
  },
  {
   "cell_type": "markdown",
   "id": "handy-scholarship",
   "metadata": {},
   "source": [
    "a ) How many negative numbers are there? "
   ]
  },
  {
   "cell_type": "code",
   "execution_count": null,
   "id": "qualified-virtue",
   "metadata": {},
   "outputs": [],
   "source": [
    "# Sol hint:"
   ]
  },
  {
   "cell_type": "code",
   "execution_count": null,
   "id": "macro-gather",
   "metadata": {},
   "outputs": [],
   "source": [
    "negative_numbers = X < 0\n",
    "print(negative_numbers)"
   ]
  },
  {
   "cell_type": "code",
   "execution_count": null,
   "id": "common-latvia",
   "metadata": {},
   "outputs": [],
   "source": [
    "X[# TO befilled]"
   ]
  },
  {
   "cell_type": "markdown",
   "id": "departmental-sentence",
   "metadata": {},
   "source": [
    "b) If you were to add 3 to each data point, how many positive numbers would there be?"
   ]
  },
  {
   "cell_type": "code",
   "execution_count": null,
   "id": "internal-cruise",
   "metadata": {},
   "outputs": [],
   "source": [
    "# Sol Hint:"
   ]
  },
  {
   "cell_type": "code",
   "execution_count": null,
   "id": "direct-remainder",
   "metadata": {},
   "outputs": [],
   "source": [
    "X_plus_three = X + 3"
   ]
  },
  {
   "cell_type": "code",
   "execution_count": null,
   "id": "designing-chase",
   "metadata": {},
   "outputs": [],
   "source": [
    "# To befilled"
   ]
  },
  {
   "cell_type": "markdown",
   "id": "photographic-porter",
   "metadata": {},
   "source": [
    "c ) Calculate the z-score for each data point. Recall that the z-score is given by:\n",
    "### Z = x − μ / σ"
   ]
  },
  {
   "cell_type": "code",
   "execution_count": null,
   "id": "handmade-essence",
   "metadata": {},
   "outputs": [],
   "source": [
    "# To be filled"
   ]
  },
  {
   "cell_type": "code",
   "execution_count": null,
   "id": "historical-wildlife",
   "metadata": {},
   "outputs": [],
   "source": []
  },
  {
   "cell_type": "markdown",
   "id": "revolutionary-camcorder",
   "metadata": {},
   "source": [
    "**2.** Make a function named mean_of_X compute average of X."
   ]
  },
  {
   "cell_type": "code",
   "execution_count": null,
   "id": "voluntary-competition",
   "metadata": {},
   "outputs": [],
   "source": [
    "X = np.array([4, 10, 12, 23, -2, -1, 0, 0, 0, -6, 3, -7])"
   ]
  },
  {
   "cell_type": "code",
   "execution_count": null,
   "id": "diagnostic-treasurer",
   "metadata": {},
   "outputs": [],
   "source": [
    "# Sol hint:"
   ]
  },
  {
   "cell_type": "code",
   "execution_count": null,
   "id": "collect-proposal",
   "metadata": {},
   "outputs": [],
   "source": [
    "def mean_of_X(nums):\n",
    "    sum_num = 0\n",
    "    for num in nums:\n",
    "        # To be filled\n",
    "        # To befilled\n",
    "    return avg\n",
    "\n",
    "print(mean_of_X(X))"
   ]
  },
  {
   "cell_type": "markdown",
   "id": "internal-municipality",
   "metadata": {},
   "source": [
    "**3.** "
   ]
  },
  {
   "cell_type": "markdown",
   "id": "large-costs",
   "metadata": {},
   "source": [
    "a ) Define function with the following equation:"
   ]
  },
  {
   "cell_type": "markdown",
   "id": "fitted-weekly",
   "metadata": {},
   "source": [
    "$$f(x)=x(x-2) + sin(x)$$"
   ]
  },
  {
   "cell_type": "code",
   "execution_count": null,
   "id": "native-romance",
   "metadata": {},
   "outputs": [],
   "source": [
    "# hint sol"
   ]
  },
  {
   "cell_type": "code",
   "execution_count": null,
   "id": "parliamentary-information",
   "metadata": {},
   "outputs": [],
   "source": [
    "import numpy as np\n",
    "\n",
    "def f(x):\n",
    "    return x*(x - 2) + #to be filled\n",
    "\n"
   ]
  },
  {
   "cell_type": "markdown",
   "id": "consecutive-speech",
   "metadata": {},
   "source": [
    "b) Define X with range from -0.5 to 3 and dicritized to 100 equal values. And evaluate Y value, Y=f(X)"
   ]
  },
  {
   "cell_type": "code",
   "execution_count": null,
   "id": "indirect-whole",
   "metadata": {},
   "outputs": [],
   "source": [
    "X = np.linspace(-0.5, 3.0, #to befilled) "
   ]
  },
  {
   "cell_type": "code",
   "execution_count": null,
   "id": "refined-attraction",
   "metadata": {},
   "outputs": [],
   "source": [
    "Y = f(X)  # evaluate f on the Xpoints"
   ]
  },
  {
   "cell_type": "markdown",
   "id": "future-tracy",
   "metadata": {},
   "source": [
    "c) Plot Y versus X"
   ]
  },
  {
   "cell_type": "code",
   "execution_count": null,
   "id": "turned-volume",
   "metadata": {},
   "outputs": [],
   "source": [
    "fig, ax = plt.subplots()\n",
    "ax.plot(#to befilled,# to be filled)"
   ]
  },
  {
   "cell_type": "markdown",
   "id": "moved-enclosure",
   "metadata": {},
   "source": [
    "d) add the label of $y=x(x-2) + sin(x)$ as title and $x$ and $y$ as labels "
   ]
  },
  {
   "cell_type": "code",
   "execution_count": null,
   "id": "fixed-shopper",
   "metadata": {},
   "outputs": [],
   "source": [
    "fig, ax = plt.subplots()\n",
    "ax.plot(X,Y)\n",
    "ax.set_title(\"Graph of # to be filled\") #LaTex used for equations\n",
    "ax.set_xlabel(\"X\")\n",
    "ax.set_ylabel(#To befilled)"
   ]
  }
 ],
 "metadata": {
  "kernelspec": {
   "display_name": "Python 3",
   "language": "python",
   "name": "python3"
  },
  "language_info": {
   "codemirror_mode": {
    "name": "ipython",
    "version": 3
   },
   "file_extension": ".py",
   "mimetype": "text/x-python",
   "name": "python",
   "nbconvert_exporter": "python",
   "pygments_lexer": "ipython3",
   "version": "3.7.6"
  }
 },
 "nbformat": 4,
 "nbformat_minor": 5
}
