{
 "cells": [
  {
   "cell_type": "markdown",
   "id": "mobile-conference",
   "metadata": {},
   "source": [
    "## NumPy "
   ]
  },
  {
   "cell_type": "markdown",
   "id": "compound-consistency",
   "metadata": {},
   "source": [
    "NumPy is the core library for scientific computing in Python. It provides a high-performance multidimensional array object, and tools for working with arrays."
   ]
  },
  {
   "cell_type": "code",
   "execution_count": 2,
   "id": "lined-witch",
   "metadata": {},
   "outputs": [],
   "source": [
    "import numpy as pd"
   ]
  },
  {
   "cell_type": "code",
   "execution_count": 4,
   "id": "wooden-waters",
   "metadata": {},
   "outputs": [],
   "source": [
    "python_list = [1,2,3,4,5]"
   ]
  },
  {
   "cell_type": "code",
   "execution_count": 6,
   "id": "colored-longer",
   "metadata": {},
   "outputs": [
    {
     "data": {
      "text/plain": [
       "array([1, 2, 3, 4, 5])"
      ]
     },
     "execution_count": 6,
     "metadata": {},
     "output_type": "execute_result"
    }
   ],
   "source": [
    "numpy_array_from_list = np.array(python_list)\n",
    "numpy_array_from_list"
   ]
  },
  {
   "cell_type": "code",
   "execution_count": 7,
   "id": "cultural-mustang",
   "metadata": {},
   "outputs": [
    {
     "data": {
      "text/plain": [
       "list"
      ]
     },
     "execution_count": 7,
     "metadata": {},
     "output_type": "execute_result"
    }
   ],
   "source": [
    "type(python_list)"
   ]
  },
  {
   "cell_type": "code",
   "execution_count": 8,
   "id": "plain-profession",
   "metadata": {},
   "outputs": [
    {
     "data": {
      "text/plain": [
       "numpy.ndarray"
      ]
     },
     "execution_count": 8,
     "metadata": {},
     "output_type": "execute_result"
    }
   ],
   "source": [
    "type(numpy_array_from_list)"
   ]
  },
  {
   "cell_type": "code",
   "execution_count": 18,
   "id": "protecting-absorption",
   "metadata": {},
   "outputs": [
    {
     "data": {
      "text/plain": [
       "array([[0, 1, 2],\n",
       "       [3, 4, 5],\n",
       "       [6, 7, 8]])"
      ]
     },
     "execution_count": 18,
     "metadata": {},
     "output_type": "execute_result"
    }
   ],
   "source": [
    "two_dimensional_list = [[0,1,2], [3,4,5], [6,7,8]]\n",
    "np_array = np.array(two_dimensional_list)\n",
    "np_array"
   ]
  },
  {
   "cell_type": "code",
   "execution_count": 19,
   "id": "curious-retreat",
   "metadata": {},
   "outputs": [
    {
     "name": "stdout",
     "output_type": "stream",
     "text": [
      "The shape (3, 3)\n",
      "The size 9\n"
     ]
    }
   ],
   "source": [
    "print(\"The shape\", np_array.shape)\n",
    "print(\"The size\", np_array.size)"
   ]
  },
  {
   "cell_type": "markdown",
   "id": "athletic-browse",
   "metadata": {},
   "source": [
    "- Mathematical Operation using numpy\n"
   ]
  },
  {
   "cell_type": "code",
   "execution_count": 20,
   "id": "cutting-chemical",
   "metadata": {},
   "outputs": [],
   "source": [
    "np_array_org = np.array([1,2,3,4])\n"
   ]
  },
  {
   "cell_type": "code",
   "execution_count": 22,
   "id": "premium-pendant",
   "metadata": {},
   "outputs": [
    {
     "name": "stdout",
     "output_type": "stream",
     "text": [
      "ten plus array is: [11 12 13 14]\n",
      "ten times_original is: [10 20 30 40]\n"
     ]
    }
   ],
   "source": [
    "ten_plus_original = np_array_org  + 10\n",
    "print(\"ten plus array is:\", ten_plus_original)\n",
    "\n",
    "ten_times_original = np_array_org * 10\n",
    "print(\"ten times_original is:\", ten_times_original)\n"
   ]
  },
  {
   "cell_type": "markdown",
   "id": "favorite-clone",
   "metadata": {},
   "source": [
    "- Getting items from a numpy array\n"
   ]
  },
  {
   "cell_type": "code",
   "execution_count": 24,
   "id": "billion-master",
   "metadata": {},
   "outputs": [
    {
     "name": "stdout",
     "output_type": "stream",
     "text": [
      "First row: [1 2 3]\n",
      "Second row: [4 5 6]\n",
      "Third row:  [7 8 9]\n"
     ]
    }
   ],
   "source": [
    "# 2 Dimension Array\n",
    "two_dimension_array = np.array([[1,2,3],[4,5,6], [7,8,9]])\n",
    "first_row = two_dimension_array[0]\n",
    "second_row = two_dimension_array[1]\n",
    "third_row = two_dimension_array[2]\n",
    "print('First row:', first_row)\n",
    "print('Second row:', second_row)\n",
    "print('Third row: ', third_row)"
   ]
  },
  {
   "cell_type": "markdown",
   "id": "solved-bikini",
   "metadata": {},
   "source": [
    "- Slicing Numpy array"
   ]
  },
  {
   "cell_type": "code",
   "execution_count": 25,
   "id": "cultural-generic",
   "metadata": {},
   "outputs": [
    {
     "name": "stdout",
     "output_type": "stream",
     "text": [
      "[[1 2]\n",
      " [4 5]]\n"
     ]
    }
   ],
   "source": [
    "first_two_rows_and_columns = two_dimension_array[0:2, 0:2]\n",
    "print(first_two_rows_and_columns)"
   ]
  },
  {
   "cell_type": "markdown",
   "id": "collected-ballet",
   "metadata": {},
   "source": [
    "### Generationg random numbers\n"
   ]
  },
  {
   "cell_type": "code",
   "execution_count": 34,
   "id": "committed-romania",
   "metadata": {},
   "outputs": [
    {
     "data": {
      "text/plain": [
       "2"
      ]
     },
     "execution_count": 34,
     "metadata": {},
     "output_type": "execute_result"
    }
   ],
   "source": [
    "# Generating a random integers between 0 and 10\n",
    "random_int = np.random.randint(0, 11)\n",
    "random_int"
   ]
  },
  {
   "cell_type": "code",
   "execution_count": 35,
   "id": "capital-guidance",
   "metadata": {},
   "outputs": [
    {
     "data": {
      "text/plain": [
       "array([6.42034154, 3.83536767, 3.33235221, 6.27807237, 5.74540931,\n",
       "       5.5970104 , 5.94597371, 4.62373917, 5.2375502 , 6.70590856])"
      ]
     },
     "execution_count": 35,
     "metadata": {},
     "output_type": "execute_result"
    }
   ],
   "source": [
    "# np.random.normal(mu, sigma, size)\n",
    "normal_array = np.random.normal(5, 1, 10)\n",
    "normal_array"
   ]
  },
  {
   "cell_type": "markdown",
   "id": "tamil-fluid",
   "metadata": {},
   "source": [
    "### Plot Distribution "
   ]
  },
  {
   "cell_type": "code",
   "execution_count": 37,
   "id": "northern-employment",
   "metadata": {},
   "outputs": [],
   "source": [
    "from scipy import stats\n",
    "np_normal_dis = np.random.normal(5, 0.5, 1000) # mean, standard deviation, number of samples"
   ]
  },
  {
   "cell_type": "code",
   "execution_count": 39,
   "id": "successful-masters",
   "metadata": {},
   "outputs": [],
   "source": [
    "import seaborn as sns"
   ]
  },
  {
   "cell_type": "code",
   "execution_count": 45,
   "id": "quick-blocking",
   "metadata": {},
   "outputs": [
    {
     "data": {
      "text/plain": [
       "<AxesSubplot:ylabel='Count'>"
      ]
     },
     "execution_count": 45,
     "metadata": {},
     "output_type": "execute_result"
    },
    {
     "data": {
      "image/png": "[encoded data removed]",
      "text/plain": [
       "<Figure size 432x288 with 1 Axes>"
      ]
     },
     "metadata": {
      "needs_background": "light"
     },
     "output_type": "display_data"
    }
   ],
   "source": [
    "mu = 28\n",
    "sigma = 15\n",
    "samples = 100000\n",
    "\n",
    "x = np.random.normal(mu, sigma, samples)\n",
    "sns.histplot(x, bins=30)"
   ]
  },
  {
   "cell_type": "markdown",
   "id": "furnished-choice",
   "metadata": {},
   "source": [
    "## Pandas"
   ]
  },
  {
   "cell_type": "code",
   "execution_count": null,
   "id": "coastal-brass",
   "metadata": {},
   "outputs": [],
   "source": []
  }
 ],
 "metadata": {
  "kernelspec": {
   "display_name": "Python 3",
   "language": "python",
   "name": "python3"
  },
  "language_info": {
   "codemirror_mode": {
    "name": "ipython",
    "version": 3
   },
   "file_extension": ".py",
   "mimetype": "text/x-python",
   "name": "python",
   "nbconvert_exporter": "python",
   "pygments_lexer": "ipython3",
   "version": "3.7.6"
  }
 },
 "nbformat": 4,
 "nbformat_minor": 5
}
